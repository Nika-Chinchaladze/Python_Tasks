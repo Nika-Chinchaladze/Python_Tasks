{
  "nbformat": 4,
  "nbformat_minor": 0,
  "metadata": {
    "colab": {
      "name": "Advanced_Functions.ipynb",
      "provenance": []
    },
    "kernelspec": {
      "name": "python3",
      "display_name": "Python 3"
    },
    "language_info": {
      "name": "python"
    }
  },
  "cells": [
    {
      "cell_type": "markdown",
      "source": [
        "**Common Functions vs Lambda Function**"
      ],
      "metadata": {
        "id": "9TOAJi6nT26o"
      }
    },
    {
      "cell_type": "code",
      "source": [
        "def Division(a, b):\n",
        "  answer = a / b\n",
        "  return answer\n",
        "\n",
        "Divide = lambda x,y : x / y\n",
        "\n",
        "print(\"With Common Function: \", Division(50, 10))\n",
        "print(\"With lambda Function: \", Divide(50, 10))"
      ],
      "metadata": {
        "colab": {
          "base_uri": "https://localhost:8080/"
        },
        "id": "YW8EdTMeT-vY",
        "outputId": "a3e6d4a5-4767-421e-a6c1-117ad0c3ca25"
      },
      "execution_count": null,
      "outputs": [
        {
          "output_type": "stream",
          "name": "stdout",
          "text": [
            "With Common Function:  5.0\n",
            "With lambda Function:  5.0\n"
          ]
        }
      ]
    },
    {
      "cell_type": "code",
      "source": [
        "lam_function = lambda c : c\n",
        "lam_input = 10\n",
        "\n",
        "lam_output = lam_function(lam_input) + 6\n",
        "print(lam_output)"
      ],
      "metadata": {
        "colab": {
          "base_uri": "https://localhost:8080/"
        },
        "id": "FDt-lMblWmfq",
        "outputId": "e03f08f6-b85a-4665-9fee-35d7ae45b584"
      },
      "execution_count": null,
      "outputs": [
        {
          "output_type": "stream",
          "name": "stdout",
          "text": [
            "16\n"
          ]
        }
      ]
    },
    {
      "cell_type": "markdown",
      "source": [
        "**args and kwargs**"
      ],
      "metadata": {
        "id": "WCFLLTipXywh"
      }
    },
    {
      "cell_type": "code",
      "source": [
        "# Find Multiplication of Numbers, with list:\n",
        "def Multiplication(List):\n",
        "  answer = 1\n",
        "  for i in List:\n",
        "    answer *= i\n",
        "  return answer\n",
        "my_list = [1, 2, 3, 4, 5]\n",
        "print(\"Find with list: \", Multiplication(my_list))\n",
        "\n",
        "# Find Multiplication of Numbers, with args:\n",
        "def Multiply(*args):\n",
        "  answer = 1\n",
        "  for i in args:\n",
        "    answer *= i\n",
        "  return answer\n",
        "print(\"Find with args: \", Multiply(1, 2, 3, 4, 5))\n",
        "\n",
        "# Create Dictionary with kwargs:\n",
        "def Create_Dict(**kwargs):\n",
        "  Dictionary = {}\n",
        "  for i, j in zip(kwargs.keys(), kwargs.values()):\n",
        "    Dictionary[i] = j\n",
        "  return Dictionary\n",
        "print(\"Created by kwargs: \", Create_Dict(a='Nika', b='Chinchaladze', c='Leri', d='Chixladze'))"
      ],
      "metadata": {
        "colab": {
          "base_uri": "https://localhost:8080/"
        },
        "id": "EFtnXnZqX3ie",
        "outputId": "44a0a6cb-d219-47bd-e8be-30127d1b2224"
      },
      "execution_count": null,
      "outputs": [
        {
          "output_type": "stream",
          "name": "stdout",
          "text": [
            "Find with list:  120\n",
            "Find with args:  120\n",
            "Created by kwargs:  {'a': 'Nika', 'b': 'Chinchaladze', 'c': 'Leri', 'd': 'Chixladze'}\n"
          ]
        }
      ]
    },
    {
      "cell_type": "markdown",
      "source": [
        "**Function input ordering:**"
      ],
      "metadata": {
        "id": "w4L0YcJGeeKs"
      }
    },
    {
      "cell_type": "code",
      "source": [
        "# a, b - required input\n",
        "# c - optional input\n",
        "# *args - positional input\n",
        "# **kwargs - keyword input\n",
        "\n",
        "def Function(a, b, c = 3, *args, **kwargs):\n",
        "  answer = a * b * c\n",
        "  Dict = {}\n",
        "  \n",
        "  number = 1\n",
        "  for i in args:\n",
        "    number *= i\n",
        "  \n",
        "  for m, n in zip(kwargs.keys(), kwargs.values()):\n",
        "    Dict[m] = n\n",
        "  \n",
        "  print(\"answer: \", answer)\n",
        "  print(\"number: \", number)\n",
        "  print(\"Dictionary: \", Dict)\n",
        "\n",
        "Function(5, 10, 3, 1,2,3,4,5, g='Chincho', h='Lazvi', k='Pachkovich')\n",
        "\n"
      ],
      "metadata": {
        "colab": {
          "base_uri": "https://localhost:8080/"
        },
        "id": "rBlRxzg9ehwj",
        "outputId": "d6e35c73-388a-4708-9e3b-96028898b6bd"
      },
      "execution_count": null,
      "outputs": [
        {
          "output_type": "stream",
          "name": "stdout",
          "text": [
            "answer:  150\n",
            "number:  120\n",
            "Dictionary:  {'g': 'Chincho', 'h': 'Lazvi', 'k': 'Pachkovich'}\n"
          ]
        }
      ]
    },
    {
      "cell_type": "markdown",
      "source": [
        "**Iterators:**"
      ],
      "metadata": {
        "id": "TWGeuhCDyPoD"
      }
    },
    {
      "cell_type": "code",
      "source": [
        "my_list = [1, 5, 'Chincho']\n",
        "iterator = iter(my_list)\n",
        "\n",
        "print(next(iterator))\n",
        "print(next(iterator))\n",
        "print(next(iterator))"
      ],
      "metadata": {
        "colab": {
          "base_uri": "https://localhost:8080/"
        },
        "id": "AhgAWnv6yRxd",
        "outputId": "119db6eb-3a60-45e3-a4fa-525b667e2b1a"
      },
      "execution_count": null,
      "outputs": [
        {
          "output_type": "stream",
          "name": "stdout",
          "text": [
            "1\n",
            "5\n",
            "Chincho\n"
          ]
        }
      ]
    },
    {
      "cell_type": "code",
      "source": [
        "list_quiz = [10, 3, 15]\n",
        "list_iterator = iter(list_quiz)\n",
        "var_1 = next(list_iterator)\n",
        "print(next(list_iterator))"
      ],
      "metadata": {
        "colab": {
          "base_uri": "https://localhost:8080/"
        },
        "id": "T8X1E1dF00wT",
        "outputId": "f521f520-2751-4ed5-d3c6-07642e3fad5d"
      },
      "execution_count": null,
      "outputs": [
        {
          "output_type": "stream",
          "name": "stdout",
          "text": [
            "3\n"
          ]
        }
      ]
    },
    {
      "cell_type": "markdown",
      "source": [
        "**Generators and Yield:**"
      ],
      "metadata": {
        "id": "l-s-pwAJ1Nq4"
      }
    },
    {
      "cell_type": "code",
      "source": [
        "# Reverse Function Without Generator:\n",
        "def Reverse(List):\n",
        "  reversed_list = []\n",
        "  length = len(List)\n",
        "  for i in range(length-1, -1, -1):\n",
        "     reversed_list.append(List[i])\n",
        "  return reversed_list\n",
        "a = [10, 11, 12, 23, 13, 14, 17]\n",
        "print(Reverse(a))"
      ],
      "metadata": {
        "colab": {
          "base_uri": "https://localhost:8080/"
        },
        "id": "z1rje-uj1Rzl",
        "outputId": "a33b634e-890a-4de8-aaf9-2fb514b6a54a"
      },
      "execution_count": null,
      "outputs": [
        {
          "output_type": "stream",
          "name": "stdout",
          "text": [
            "[17, 14, 13, 23, 12, 11, 10]\n"
          ]
        }
      ]
    },
    {
      "cell_type": "code",
      "source": [
        "# Reverse Function With Generator:\n",
        "def Reverse_Generator(data):\n",
        "  length = len(data)\n",
        "  for i in range(length-1, -1, -1):\n",
        "    yield data[i]\n",
        "\n",
        "Reversed_List = Reverse_Generator(a)\n",
        "for i in Reversed_List:\n",
        "  print(i)"
      ],
      "metadata": {
        "colab": {
          "base_uri": "https://localhost:8080/"
        },
        "id": "IKntsldv6VXQ",
        "outputId": "e3c7cbed-9ce1-482d-a6fc-a11c6fb3f36e"
      },
      "execution_count": null,
      "outputs": [
        {
          "output_type": "stream",
          "name": "stdout",
          "text": [
            "17\n",
            "14\n",
            "13\n",
            "23\n",
            "12\n",
            "11\n",
            "10\n"
          ]
        }
      ]
    },
    {
      "cell_type": "markdown",
      "source": [
        "**Map Functions**"
      ],
      "metadata": {
        "id": "uRJEPyuVC9Ge"
      }
    },
    {
      "cell_type": "code",
      "source": [
        "# Add Number to all element of list with common function:\n",
        "def Add_num(List, Number):\n",
        "  answer = []\n",
        "  for i in List:\n",
        "    answer.append(i + Number)\n",
        "  return answer\n",
        "\n",
        "my_list = [10, 20, 30]\n",
        "print(\"With Common Function: \", Add_num(my_list, 5))\n",
        "\n",
        "# do the same example with map function:\n",
        "def Add_num_map(Element, Number = 5):\n",
        "  return Element + Number\n",
        "\n",
        "result = map(Add_num_map, my_list)\n",
        "print(\"With map Function: \", list(result))\n",
        "\n",
        "# do the same operation with lambda and map:\n",
        "ADD_NUMS = lambda element : element + 5\n",
        "lambda_result = map(ADD_NUMS, my_list)\n",
        "print(\"With lambda + map Functions, first variant: \", list(lambda_result))\n",
        "\n",
        "# the same operation:\n",
        "lambda_answer = map(lambda item : item +5, my_list)\n",
        "print(\"With lambda + map Functions, second variant: \", list(lambda_answer))"
      ],
      "metadata": {
        "colab": {
          "base_uri": "https://localhost:8080/"
        },
        "id": "OY_HAU5gDAwk",
        "outputId": "ebf6f81c-dd5c-4134-b659-cce49175940c"
      },
      "execution_count": 12,
      "outputs": [
        {
          "output_type": "stream",
          "name": "stdout",
          "text": [
            "With Common Function:  [15, 25, 35]\n",
            "With map Function:  [15, 25, 35]\n",
            "With lambda + map Functions, first variant:  [15, 25, 35]\n",
            "With lambda + map Functions, second variant:  [15, 25, 35]\n"
          ]
        }
      ]
    },
    {
      "cell_type": "markdown",
      "source": [
        "**Map Function with Built in Functions**"
      ],
      "metadata": {
        "id": "h3D3jdn6OcWK"
      }
    },
    {
      "cell_type": "code",
      "source": [
        "Float_list = [1.3, 3.5, 2.3, 6.8, 9.9]\n",
        "int_answer = map(int, Float_list)\n",
        "print(\"Transformed from float into int: \", list(int_answer))"
      ],
      "metadata": {
        "colab": {
          "base_uri": "https://localhost:8080/"
        },
        "id": "bqO08aVYN17q",
        "outputId": "c0426d64-2ee7-4544-ebc7-ff2f9676d145"
      },
      "execution_count": 14,
      "outputs": [
        {
          "output_type": "stream",
          "name": "stdout",
          "text": [
            "Transformed from float into int:  [1, 3, 2, 6, 9]\n"
          ]
        }
      ]
    },
    {
      "cell_type": "code",
      "source": [
        "common_list = [5, 6, 7, 8]\n",
        "power_list = [2, 3, 4, 5]\n",
        "power_answer = map(pow, common_list, power_list)\n",
        "print(\"Powered List Elements: \", list(power_answer))"
      ],
      "metadata": {
        "colab": {
          "base_uri": "https://localhost:8080/"
        },
        "id": "BkJ9AxUTOykt",
        "outputId": "07e67f22-3b6a-4f7d-eb8e-3ee7fe9d1bd9"
      },
      "execution_count": 17,
      "outputs": [
        {
          "output_type": "stream",
          "name": "stdout",
          "text": [
            "Powered List Elements:  [25, 216, 2401, 32768]\n"
          ]
        }
      ]
    },
    {
      "cell_type": "code",
      "source": [
        "# exception: here is used -> user defined function created with lambda:\n",
        "first_list = [1, 2, 3, 4, 5]\n",
        "second_list = [6, 7, 8, 9, 10]\n",
        "add_fun = lambda a,b: a+ b\n",
        "add_answer = map(add_fun, first_list, second_list)\n",
        "print(\"Sum of elements from two lists: \", list(add_answer))"
      ],
      "metadata": {
        "colab": {
          "base_uri": "https://localhost:8080/"
        },
        "id": "NhbSmuHnPu_e",
        "outputId": "1e5cdeeb-b042-4abe-9902-abca805363df"
      },
      "execution_count": 21,
      "outputs": [
        {
          "output_type": "stream",
          "name": "stdout",
          "text": [
            "Sum of elements from two lists:  [7, 9, 11, 13, 15]\n"
          ]
        }
      ]
    },
    {
      "cell_type": "code",
      "source": [
        "# Find number of occurences of i in list elements:\n",
        "my_list = ['nika', 'leria', 'chinchaladze', 'lazviashvili', 'charelashvili', 'barnabishvili']\n",
        "mapped_list = list(map(lambda List: List.count('i'), my_list))\n",
        "print(\"Number of i in element of list: \", mapped_list)\n"
      ],
      "metadata": {
        "colab": {
          "base_uri": "https://localhost:8080/"
        },
        "id": "xicLqt07Qwvn",
        "outputId": "84879195-af9a-4d69-e892-60477e7c451c"
      },
      "execution_count": 24,
      "outputs": [
        {
          "output_type": "stream",
          "name": "stdout",
          "text": [
            "Number of i in element of list:  [1, 1, 1, 3, 2, 3]\n"
          ]
        }
      ]
    },
    {
      "cell_type": "markdown",
      "source": [
        "**Filter Function**"
      ],
      "metadata": {
        "id": "Z_WgqCwkTO_A"
      }
    },
    {
      "cell_type": "code",
      "source": [
        "Grades = [10, 20, 30, 40, 50]\n",
        "# 1)\n",
        "def Passing(List, Score):\n",
        "  Grades_answer = []\n",
        "  for i in List:\n",
        "    if i > Score:\n",
        "      Grades_answer.append(i)\n",
        "  return Grades_answer\n",
        "print('With common Function: ', Passing(Grades, 25))\n",
        "\n",
        "# 2)\n",
        "def Pass_Function(List, Score = 25):\n",
        "  return List > Score\n",
        "Passed_answer = list(filter(Pass_Function, Grades))\n",
        "print('With filter Function: ', Passed_answer)\n",
        "\n",
        "# 3)\n",
        "Lambda_Answer = list(filter(lambda Items : Items > 25, Grades))\n",
        "print(\"With lambda + filter Functions: \", Lambda_Answer)"
      ],
      "metadata": {
        "colab": {
          "base_uri": "https://localhost:8080/"
        },
        "id": "AceqZhtXTTPB",
        "outputId": "95f80a72-2988-4086-ca6e-35dd34bd5202"
      },
      "execution_count": 28,
      "outputs": [
        {
          "output_type": "stream",
          "name": "stdout",
          "text": [
            "With common Function:  [30, 40, 50]\n",
            "With filter Function:  [30, 40, 50]\n",
            "With lambda + filter Functions:  [30, 40, 50]\n"
          ]
        }
      ]
    },
    {
      "cell_type": "code",
      "source": [
        "# create new list with only even numbers\n",
        "Number_List = [10, 11, 12, 13, 14, 15, 16, 17]\n",
        "Even_list = list(filter(lambda item: item % 2 == 0, Number_List))\n",
        "print(\"List with even elements: \", Even_list)"
      ],
      "metadata": {
        "colab": {
          "base_uri": "https://localhost:8080/"
        },
        "id": "ktI9AvAIaSBa",
        "outputId": "7f88e6df-4e40-4986-d587-9d929d887703"
      },
      "execution_count": 32,
      "outputs": [
        {
          "output_type": "stream",
          "name": "stdout",
          "text": [
            "List with even elements:  [10, 12, 14, 16]\n"
          ]
        }
      ]
    }
  ]
}