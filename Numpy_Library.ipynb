{
  "nbformat": 4,
  "nbformat_minor": 0,
  "metadata": {
    "colab": {
      "name": "Numpy Library.ipynb",
      "provenance": []
    },
    "kernelspec": {
      "name": "python3",
      "display_name": "Python 3"
    },
    "language_info": {
      "name": "python"
    }
  },
  "cells": [
    {
      "cell_type": "code",
      "source": [
        "import numpy as np\n",
        "\n",
        "my_list = [1, 2, 3, 4, 5]\n",
        "np_array = np.asarray(my_list)\n",
        "print(\"Array: \", np_array)\n",
        "print(\"Shape of array: \", np_array.shape)\n",
        "print(\"Data type of array elements: \", np_array.dtype)"
      ],
      "metadata": {
        "colab": {
          "base_uri": "https://localhost:8080/"
        },
        "id": "twu_TOWFRF9E",
        "outputId": "0e43c06d-885b-496d-fa36-936ce669e58d"
      },
      "execution_count": 2,
      "outputs": [
        {
          "output_type": "stream",
          "name": "stdout",
          "text": [
            "Array:  [1 2 3 4 5]\n",
            "Shape of array:  (5,)\n",
            "Data type of array elements:  int64\n"
          ]
        }
      ]
    },
    {
      "cell_type": "markdown",
      "source": [
        "**Force into another data type**"
      ],
      "metadata": {
        "id": "EiHfNBfGVjX8"
      }
    },
    {
      "cell_type": "code",
      "source": [
        "second_list = [1.2, 3.4, 5.6, 3.6, 20.5]\n",
        "second_array = np.asarray(second_list, dtype = np.int64)\n",
        "print(\"Array: \", second_array)"
      ],
      "metadata": {
        "colab": {
          "base_uri": "https://localhost:8080/"
        },
        "id": "jcW3_x4eVLTD",
        "outputId": "31de769c-d0bb-4704-bfef-9eb3ab8611cb"
      },
      "execution_count": 3,
      "outputs": [
        {
          "output_type": "stream",
          "name": "stdout",
          "text": [
            "Array:  [ 1  3  5  3 20]\n"
          ]
        }
      ]
    },
    {
      "cell_type": "markdown",
      "source": [
        "**Built-in Functions**"
      ],
      "metadata": {
        "id": "0d8l72G8Xe9a"
      }
    },
    {
      "cell_type": "code",
      "source": [
        "zero_array = np.zeros((2,5), dtype = int)\n",
        "one_array = np.ones((3,6), dtype = int)\n",
        "arange_array = np.arange(start = 0, step = 2, stop = 10)\n",
        "linspace_array = np.linspace(start = 0, stop = 6, num = 3, dtype = int)\n",
        "random_array = np.random.random(5)\n",
        "\n",
        "print(\"Zero Array: \", zero_array)\n",
        "print(\"One Array: \", one_array)\n",
        "print(\"Arange Array: \", arange_array)\n",
        "print(\"Linspace Array: \", linspace_array)\n",
        "print(\"Random Array: \", random_array)"
      ],
      "metadata": {
        "colab": {
          "base_uri": "https://localhost:8080/"
        },
        "id": "iq2Le-zcV3KJ",
        "outputId": "64ebb4ae-6f26-4c6f-f39e-2d142f17334c"
      },
      "execution_count": 4,
      "outputs": [
        {
          "output_type": "stream",
          "name": "stdout",
          "text": [
            "Zero Array:  [[0 0 0 0 0]\n",
            " [0 0 0 0 0]]\n",
            "One Array:  [[1 1 1 1 1 1]\n",
            " [1 1 1 1 1 1]\n",
            " [1 1 1 1 1 1]]\n",
            "Arange Array:  [0 2 4 6 8]\n",
            "Linspace Array:  [0 3 6]\n",
            "Random Array:  [0.73049183 0.717018   0.68352863 0.31710094 0.47243546]\n"
          ]
        }
      ]
    },
    {
      "cell_type": "markdown",
      "source": [
        "**reshape**"
      ],
      "metadata": {
        "id": "obazQ7WFgH-3"
      }
    },
    {
      "cell_type": "code",
      "source": [
        "my_array = np.arange(10)\n",
        "my_array = np.reshape(my_array, (2,5))\n",
        "print(my_array)"
      ],
      "metadata": {
        "colab": {
          "base_uri": "https://localhost:8080/"
        },
        "id": "shEwQPjya4NN",
        "outputId": "0fd6e2b0-1eed-4586-e326-8ae9ec6f5f9f"
      },
      "execution_count": 5,
      "outputs": [
        {
          "output_type": "stream",
          "name": "stdout",
          "text": [
            "[[0 1 2 3 4]\n",
            " [5 6 7 8 9]]\n"
          ]
        }
      ]
    },
    {
      "cell_type": "code",
      "source": [
        "my_order = np.reshape(my_array, (5,2))\n",
        "print(my_order)"
      ],
      "metadata": {
        "colab": {
          "base_uri": "https://localhost:8080/"
        },
        "id": "9LmtV_ignhpI",
        "outputId": "6be33576-9636-4f07-ddaa-861ac93fae10"
      },
      "execution_count": 6,
      "outputs": [
        {
          "output_type": "stream",
          "name": "stdout",
          "text": [
            "[[0 1]\n",
            " [2 3]\n",
            " [4 5]\n",
            " [6 7]\n",
            " [8 9]]\n"
          ]
        }
      ]
    },
    {
      "cell_type": "code",
      "source": [
        "# reshape np_boom numpy array to be [3,4] and change element 6 with 20\n",
        "\n",
        "np_boom = np.arange(2, 14)\n",
        "np_reshaped = np.reshape(np_boom, (3,4))\n",
        "print(np_reshaped)\n",
        "print(\"--------------------\")\n",
        "np_reshaped[1,0] = 20\n",
        "print(np_reshaped)"
      ],
      "metadata": {
        "colab": {
          "base_uri": "https://localhost:8080/"
        },
        "id": "ilD4TF-UpaVh",
        "outputId": "3691c169-6eba-45bf-ca42-3b876d1cabc4"
      },
      "execution_count": 7,
      "outputs": [
        {
          "output_type": "stream",
          "name": "stdout",
          "text": [
            "[[ 2  3  4  5]\n",
            " [ 6  7  8  9]\n",
            " [10 11 12 13]]\n",
            "--------------------\n",
            "[[ 2  3  4  5]\n",
            " [20  7  8  9]\n",
            " [10 11 12 13]]\n"
          ]
        }
      ]
    },
    {
      "cell_type": "markdown",
      "source": [
        "**Access and Modify array elements**"
      ],
      "metadata": {
        "id": "2GzBtFm8mPWF"
      }
    },
    {
      "cell_type": "code",
      "source": [
        "empty = [i for i in range(10)]\n",
        "emp_array = np.array(empty)\n",
        "print(emp_array)\n",
        "print(\"---------------------------------\")\n",
        "emp_array[2] = 50\n",
        "emp_array[5] = 100\n",
        "emp_array[8] = 150\n",
        "print(emp_array)"
      ],
      "metadata": {
        "colab": {
          "base_uri": "https://localhost:8080/"
        },
        "id": "K96J7JcBhn49",
        "outputId": "5e00da79-df5d-42df-c4c1-f9545dc5bbce"
      },
      "execution_count": 8,
      "outputs": [
        {
          "output_type": "stream",
          "name": "stdout",
          "text": [
            "[0 1 2 3 4 5 6 7 8 9]\n",
            "---------------------------------\n",
            "[  0   1  50   3   4 100   6   7 150   9]\n"
          ]
        }
      ]
    },
    {
      "cell_type": "code",
      "source": [
        "high_list = [[1, 2, 3, 4, 5], [6, 7, 8, 9, 10], [11, 12, 13, 14, 15]]\n",
        "high_array = np.array(high_list)\n",
        "print(high_array)\n",
        "print(\"-------------------------------------\")\n",
        "high_array[0,1] = 100\n",
        "high_array[1, 2] = 200\n",
        "high_array[2, -2] = 300\n",
        "print(high_array)"
      ],
      "metadata": {
        "colab": {
          "base_uri": "https://localhost:8080/"
        },
        "id": "PfyGVQRvmC1b",
        "outputId": "1f1d0648-1917-4016-b7b0-af06b2707428"
      },
      "execution_count": 9,
      "outputs": [
        {
          "output_type": "stream",
          "name": "stdout",
          "text": [
            "[[ 1  2  3  4  5]\n",
            " [ 6  7  8  9 10]\n",
            " [11 12 13 14 15]]\n",
            "-------------------------------------\n",
            "[[  1 100   3   4   5]\n",
            " [  6   7 200   9  10]\n",
            " [ 11  12  13 300  15]]\n"
          ]
        }
      ]
    },
    {
      "cell_type": "code",
      "source": [
        "# access 10 and 11\n",
        "np_aar = np.array([[1,2,3], [2,3,5], [10,11,12]])\n",
        "print(np_aar[2, 0:2])"
      ],
      "metadata": {
        "colab": {
          "base_uri": "https://localhost:8080/"
        },
        "id": "Vt4ezkV8oo1p",
        "outputId": "42b55add-3935-43c3-f1ce-220185062adf"
      },
      "execution_count": 10,
      "outputs": [
        {
          "output_type": "stream",
          "name": "stdout",
          "text": [
            "[10 11]\n"
          ]
        }
      ]
    },
    {
      "cell_type": "markdown",
      "source": [
        "**Slicing and Copying**"
      ],
      "metadata": {
        "id": "nhXVxNFiq3Cp"
      }
    },
    {
      "cell_type": "code",
      "source": [
        "chincho = [[1,2,3], [4,5,6], [7,8,9]]\n",
        "chin = np.array(chincho)\n",
        "print(chin)\n",
        "print(\"-------------------------\")\n",
        "print(chin[1:2,1:])"
      ],
      "metadata": {
        "colab": {
          "base_uri": "https://localhost:8080/"
        },
        "id": "bptjIQhNq7Nk",
        "outputId": "eea57aa2-ae92-4efe-922a-2e71f2534359"
      },
      "execution_count": 11,
      "outputs": [
        {
          "output_type": "stream",
          "name": "stdout",
          "text": [
            "[[1 2 3]\n",
            " [4 5 6]\n",
            " [7 8 9]]\n",
            "-------------------------\n",
            "[[5 6]]\n"
          ]
        }
      ]
    },
    {
      "cell_type": "code",
      "source": [
        "# Without Copy Function original array has changed:\n",
        "\n",
        "me = np.array([[1,2,3], [4,5,6], [7,8,9]])\n",
        "you = me[1:2, 0:]\n",
        "you[0,1] = 10\n",
        "print(\"Me: \", me)\n",
        "print(\"You: \", you)"
      ],
      "metadata": {
        "colab": {
          "base_uri": "https://localhost:8080/"
        },
        "id": "QTgo2q_JzOsY",
        "outputId": "2fe8f2e1-a047-451f-bb93-e2d229cf5665"
      },
      "execution_count": 12,
      "outputs": [
        {
          "output_type": "stream",
          "name": "stdout",
          "text": [
            "Me:  [[ 1  2  3]\n",
            " [ 4 10  6]\n",
            " [ 7  8  9]]\n",
            "You:  [[ 4 10  6]]\n"
          ]
        }
      ]
    },
    {
      "cell_type": "code",
      "source": [
        "# After seed() function random numbers will be the same\n",
        "# Let's make a copy of array, Original array won't change\n",
        "\n",
        "np.random.seed(0)\n",
        "us = np.random.random((3,3))\n",
        "we = np.copy(us)\n",
        "print(we)\n",
        "print(\"--------------------------\")\n",
        "we[0,0] = 100\n",
        "we[1,0] = 200\n",
        "we[2,0] = 300\n",
        "print(we[0:3, 0])\n",
        "print(\"--------------------------\")\n",
        "print(us)"
      ],
      "metadata": {
        "colab": {
          "base_uri": "https://localhost:8080/"
        },
        "id": "gw2SGdyS0MSh",
        "outputId": "43640552-f308-46c1-8788-bf554b8a3287"
      },
      "execution_count": 13,
      "outputs": [
        {
          "output_type": "stream",
          "name": "stdout",
          "text": [
            "[[0.5488135  0.71518937 0.60276338]\n",
            " [0.54488318 0.4236548  0.64589411]\n",
            " [0.43758721 0.891773   0.96366276]]\n",
            "--------------------------\n",
            "[100. 200. 300.]\n",
            "--------------------------\n",
            "[[0.5488135  0.71518937 0.60276338]\n",
            " [0.54488318 0.4236548  0.64589411]\n",
            " [0.43758721 0.891773   0.96366276]]\n"
          ]
        }
      ]
    },
    {
      "cell_type": "code",
      "source": [
        "tommy = np.ones((7,6), dtype = int)\n",
        "artour = np.zeros((2,2), dtype = int)\n",
        "tommy_copy = np.copy(tommy)\n",
        "tommy_copy[2:4, 3:5] = artour\n",
        "\n",
        "print(tommy)\n",
        "print(\"----------------------------\")\n",
        "print(artour)\n",
        "print(\"----------------------------\")\n",
        "print(tommy_copy)"
      ],
      "metadata": {
        "colab": {
          "base_uri": "https://localhost:8080/"
        },
        "id": "64RLyo_S2chB",
        "outputId": "f0870f2a-8424-43ef-c76c-224e3b9401c3"
      },
      "execution_count": 14,
      "outputs": [
        {
          "output_type": "stream",
          "name": "stdout",
          "text": [
            "[[1 1 1 1 1 1]\n",
            " [1 1 1 1 1 1]\n",
            " [1 1 1 1 1 1]\n",
            " [1 1 1 1 1 1]\n",
            " [1 1 1 1 1 1]\n",
            " [1 1 1 1 1 1]\n",
            " [1 1 1 1 1 1]]\n",
            "----------------------------\n",
            "[[0 0]\n",
            " [0 0]]\n",
            "----------------------------\n",
            "[[1 1 1 1 1 1]\n",
            " [1 1 1 1 1 1]\n",
            " [1 1 1 0 0 1]\n",
            " [1 1 1 0 0 1]\n",
            " [1 1 1 1 1 1]\n",
            " [1 1 1 1 1 1]\n",
            " [1 1 1 1 1 1]]\n"
          ]
        }
      ]
    },
    {
      "cell_type": "markdown",
      "source": [
        "**Insert, Append and Delete**"
      ],
      "metadata": {
        "id": "1hfSyamn4l_f"
      }
    },
    {
      "cell_type": "code",
      "source": [
        "john = np.array([[1,2], [3,4]])\n",
        "added = [[10,11], [12,13]]\n",
        "print(john)\n",
        "poly = np.insert(john, 0, np.array(added), axis = 0 )\n",
        "aida = np.insert(john, 0, np.array(added), axis = 1)\n",
        "print(\"-------------------------\")\n",
        "print(poly)\n",
        "print(\"-------------------------\")\n",
        "print(aida)"
      ],
      "metadata": {
        "colab": {
          "base_uri": "https://localhost:8080/"
        },
        "id": "bF7h8-oy4qlG",
        "outputId": "d52d93c0-0373-4966-9304-478a2f2d5367"
      },
      "execution_count": 15,
      "outputs": [
        {
          "output_type": "stream",
          "name": "stdout",
          "text": [
            "[[1 2]\n",
            " [3 4]]\n",
            "-------------------------\n",
            "[[10 11]\n",
            " [12 13]\n",
            " [ 1  2]\n",
            " [ 3  4]]\n",
            "-------------------------\n",
            "[[10 12  1  2]\n",
            " [11 13  3  4]]\n"
          ]
        }
      ]
    },
    {
      "cell_type": "code",
      "source": [
        "michael = np.array([['a', 'b', 'c'], ['d', 'e', 'f']])\n",
        "pluss = [['g', 'h', 'i'], ['j', 'k', 'l']]\n",
        "usa = np.append(michael, pluss, axis = 1)\n",
        "print(usa)"
      ],
      "metadata": {
        "colab": {
          "base_uri": "https://localhost:8080/"
        },
        "id": "xc6RzSP6-BFP",
        "outputId": "3d47800f-89f7-487e-ae0e-dab7b868011c"
      },
      "execution_count": 16,
      "outputs": [
        {
          "output_type": "stream",
          "name": "stdout",
          "text": [
            "[['a' 'b' 'c' 'g' 'h' 'i']\n",
            " ['d' 'e' 'f' 'j' 'k' 'l']]\n"
          ]
        }
      ]
    },
    {
      "cell_type": "code",
      "source": [
        "usa = np.delete(usa, [0,1,2,3,4,5])\n",
        "print(usa)"
      ],
      "metadata": {
        "colab": {
          "base_uri": "https://localhost:8080/"
        },
        "id": "SSHgYaIAAmEm",
        "outputId": "096b0dfc-2ba4-4c86-ec8c-d1785bb4aeb9"
      },
      "execution_count": 17,
      "outputs": [
        {
          "output_type": "stream",
          "name": "stdout",
          "text": [
            "['d' 'e' 'f' 'j' 'k' 'l']\n"
          ]
        }
      ]
    },
    {
      "cell_type": "code",
      "source": [
        "lion = np.array([[1,2,3], [4,5,6], [7,8,9], [10,11,12]])\n",
        "print(lion)\n",
        "print(\"--------------------------------\")\n",
        "lion = np.delete(lion, [1,3], axis = 0)\n",
        "print(lion)\n",
        "print(\"--------------------------------\")\n",
        "lion = np.delete(lion, 0, axis = 1)\n",
        "print(lion)\n",
        "print(\"--------------------------------\")\n",
        "lion = np.delete(lion, 0, axis = 0)\n",
        "print(lion)\n"
      ],
      "metadata": {
        "colab": {
          "base_uri": "https://localhost:8080/"
        },
        "id": "APIxQ7AiCKnm",
        "outputId": "7defe9fc-e7ab-4d13-818c-b4a37448b45d"
      },
      "execution_count": 18,
      "outputs": [
        {
          "output_type": "stream",
          "name": "stdout",
          "text": [
            "[[ 1  2  3]\n",
            " [ 4  5  6]\n",
            " [ 7  8  9]\n",
            " [10 11 12]]\n",
            "--------------------------------\n",
            "[[1 2 3]\n",
            " [7 8 9]]\n",
            "--------------------------------\n",
            "[[2 3]\n",
            " [8 9]]\n",
            "--------------------------------\n",
            "[[8 9]]\n"
          ]
        }
      ]
    },
    {
      "cell_type": "code",
      "source": [
        "tiger = np.array([[20,14], [31, 41], [941, 678], [1468, 121]])\n",
        "tiger_1 = np.copy(tiger)\n",
        "tiger_2 = np.copy(tiger)\n",
        "tiger_3 = np.copy(tiger)\n",
        "\n",
        "tiger_1 = np.append(tiger_1, [3,4,5])\n",
        "print(tiger_1)\n",
        "print(\"------------------------------------------\")\n",
        "tiger_2 = np.insert(tiger_2, 1, [[15, 21], [41, 93]], axis = 0)\n",
        "print(tiger_2)\n",
        "print(\"------------------------------------------\")\n",
        "tiger_3 = np.delete(tiger_3, 0, axis = 0)\n",
        "print(tiger_3)"
      ],
      "metadata": {
        "colab": {
          "base_uri": "https://localhost:8080/"
        },
        "id": "0gr6ESe-Fb_x",
        "outputId": "84fd8d27-1d36-4231-90e6-b926f287fe8d"
      },
      "execution_count": 19,
      "outputs": [
        {
          "output_type": "stream",
          "name": "stdout",
          "text": [
            "[  20   14   31   41  941  678 1468  121    3    4    5]\n",
            "------------------------------------------\n",
            "[[  20   14]\n",
            " [  15   21]\n",
            " [  41   93]\n",
            " [  31   41]\n",
            " [ 941  678]\n",
            " [1468  121]]\n",
            "------------------------------------------\n",
            "[[  31   41]\n",
            " [ 941  678]\n",
            " [1468  121]]\n"
          ]
        }
      ]
    },
    {
      "cell_type": "markdown",
      "source": [
        "**Index based on a condition**"
      ],
      "metadata": {
        "id": "iXRh5nb4f0oP"
      }
    },
    {
      "cell_type": "code",
      "source": [
        "# print elements bigger than 5\n",
        "\n",
        "dog = np.array([[1,2,3], [4,5,6], [7,8,9]])\n",
        "print(dog[dog > 5])\n",
        "print(dog > 5)"
      ],
      "metadata": {
        "colab": {
          "base_uri": "https://localhost:8080/"
        },
        "id": "_lByscyKf5rZ",
        "outputId": "2c259694-18b2-4ce0-f0a0-70587f1cc0c6"
      },
      "execution_count": 23,
      "outputs": [
        {
          "output_type": "stream",
          "name": "stdout",
          "text": [
            "[6 7 8 9]\n",
            "[[False False False]\n",
            " [False False  True]\n",
            " [ True  True  True]]\n"
          ]
        }
      ]
    },
    {
      "cell_type": "code",
      "source": [
        "cat = np.array([[50,221,12], [21,30,541], [12,31,45]])\n",
        "np_cat = cat[cat>=30]\n",
        "print(np_cat)"
      ],
      "metadata": {
        "colab": {
          "base_uri": "https://localhost:8080/"
        },
        "id": "teA0_6yFhHLf",
        "outputId": "f6582437-f9dd-4cf7-b9a0-39ea506af62a"
      },
      "execution_count": 27,
      "outputs": [
        {
          "output_type": "stream",
          "name": "stdout",
          "text": [
            "[ 50 221  30 541  31  45]\n"
          ]
        }
      ]
    },
    {
      "cell_type": "markdown",
      "source": [
        "**Broadcasting**"
      ],
      "metadata": {
        "id": "VIInm3I0h7aW"
      }
    },
    {
      "cell_type": "code",
      "source": [
        "# multiplication of arrays\n",
        "\n",
        "bear = np.array([[5, 10,15]])\n",
        "monkey = np.array([[5, 2, 3]])\n",
        "boom = bear * monkey\n",
        "division = bear / monkey\n",
        "lamp = bear * 10\n",
        "print(\"boom: \", boom)\n",
        "print(\"division: \", division)\n",
        "print(\"lamp: \", lamp)"
      ],
      "metadata": {
        "colab": {
          "base_uri": "https://localhost:8080/"
        },
        "id": "qGUg0QPEh-o8",
        "outputId": "03937978-ce7a-4199-c352-10f91616f54c"
      },
      "execution_count": 34,
      "outputs": [
        {
          "output_type": "stream",
          "name": "stdout",
          "text": [
            "boom:  [[25 20 45]]\n",
            "division:  [[1. 5. 5.]]\n",
            "lamp:  [[ 50 100 150]]\n"
          ]
        }
      ]
    }
  ]
}