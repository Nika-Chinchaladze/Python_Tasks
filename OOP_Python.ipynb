{
  "nbformat": 4,
  "nbformat_minor": 0,
  "metadata": {
    "colab": {
      "provenance": []
    },
    "kernelspec": {
      "name": "python3",
      "display_name": "Python 3"
    },
    "language_info": {
      "name": "python"
    }
  },
  "cells": [
    {
      "cell_type": "code",
      "execution_count": null,
      "metadata": {
        "id": "qJjuC-miTm58"
      },
      "outputs": [],
      "source": [
        "class Car:\n",
        "  def __init__(self, color, model, year):\n",
        "    self.color = color\n",
        "    self.model = model\n",
        "    self.year = year\n",
        "  Wheel_Number = 4\n",
        "\n",
        "# objects:\n",
        "First_car = Car('red', 'mercedes', 1997)\n",
        "Second_car = Car('black', 'bmw', 2000)\n",
        "Third_car = Car('blue', 'opel', 2005)"
      ]
    },
    {
      "cell_type": "code",
      "source": [
        "print(First_car.color)\n",
        "print(First_car.model)\n",
        "print(First_car.year)\n",
        "print(First_car.Wheel_Number)"
      ],
      "metadata": {
        "colab": {
          "base_uri": "https://localhost:8080/"
        },
        "id": "3nqZ8r006FKr",
        "outputId": "3403bff9-ebfa-49a2-95c2-6e0b33133e39"
      },
      "execution_count": null,
      "outputs": [
        {
          "output_type": "stream",
          "name": "stdout",
          "text": [
            "red\n",
            "mercedes\n",
            "1997\n",
            "4\n"
          ]
        }
      ]
    },
    {
      "cell_type": "code",
      "source": [
        "print(Second_car.color)\n",
        "print(Second_car.model)\n",
        "print(Second_car.year)\n",
        "print(Second_car.Wheel_Number)"
      ],
      "metadata": {
        "colab": {
          "base_uri": "https://localhost:8080/"
        },
        "id": "KnDa8v2R6K92",
        "outputId": "0f29a4a0-4893-4b93-8fd0-f517e2a14226"
      },
      "execution_count": null,
      "outputs": [
        {
          "output_type": "stream",
          "name": "stdout",
          "text": [
            "black\n",
            "bmw\n",
            "2000\n",
            "4\n"
          ]
        }
      ]
    },
    {
      "cell_type": "code",
      "source": [
        "print(Third_car.color)\n",
        "print(Third_car.model)\n",
        "print(Third_car.year)\n",
        "print(Third_car.Wheel_Number)"
      ],
      "metadata": {
        "colab": {
          "base_uri": "https://localhost:8080/"
        },
        "id": "HuIXsAvD6UL9",
        "outputId": "7c8ca60c-4986-4981-9f57-4a98d2b1f15d"
      },
      "execution_count": null,
      "outputs": [
        {
          "output_type": "stream",
          "name": "stdout",
          "text": [
            "blue\n",
            "opel\n",
            "2005\n",
            "4\n"
          ]
        }
      ]
    },
    {
      "cell_type": "markdown",
      "source": [
        "**Modify Attributes: setters and getters**"
      ],
      "metadata": {
        "id": "UJzKGSrJ7zXm"
      }
    },
    {
      "cell_type": "code",
      "source": [
        "class Programming:\n",
        "  def __init__(self, language):\n",
        "    self.__language = language\n",
        "  \n",
        "  def setlanguage(self, language):\n",
        "    self.__language = language\n",
        "  \n",
        "  def getlanguage(self):\n",
        "    return self.__language"
      ],
      "metadata": {
        "id": "DvbCkG4v73I9"
      },
      "execution_count": null,
      "outputs": []
    },
    {
      "cell_type": "code",
      "source": [
        "# objects:\n",
        "First_lang = Programming('SQL')\n",
        "print(First_lang.getlanguage())\n",
        "# modify object first time\n",
        "First_lang.setlanguage('Python')\n",
        "print(First_lang.getlanguage())\n",
        "# modify object first time\n",
        "First_lang.setlanguage('Power BI')\n",
        "print(First_lang.getlanguage())"
      ],
      "metadata": {
        "colab": {
          "base_uri": "https://localhost:8080/"
        },
        "id": "laeCCQNP-9Ms",
        "outputId": "9a793f71-9dc8-49c3-cc01-e30cef929b52"
      },
      "execution_count": null,
      "outputs": [
        {
          "output_type": "stream",
          "name": "stdout",
          "text": [
            "SQL\n",
            "Python\n",
            "Power BI\n"
          ]
        }
      ]
    },
    {
      "cell_type": "markdown",
      "source": [
        "**property function**"
      ],
      "metadata": {
        "id": "jBq1IV8Bwlh3"
      }
    },
    {
      "cell_type": "code",
      "source": [
        "class Sport:\n",
        "  def __init__(self, direction):\n",
        "    self.__direction = direction\n",
        "  def setdirection(self, direction):\n",
        "    self.__direction = direction\n",
        "  def getdirection(self):\n",
        "    return self.__direction\n",
        "  direction = property(getdirection, setdirection)"
      ],
      "metadata": {
        "id": "7IlxwGqAwozo"
      },
      "execution_count": null,
      "outputs": []
    },
    {
      "cell_type": "code",
      "source": [
        "First_sport = Sport('UFC')\n",
        "print(\"1)\", First_sport.getdirection())\n",
        "First_sport.setdirection('Box')\n",
        "print(\"2)\", First_sport.getdirection())\n",
        "First_sport.direction = 'MMA'\n",
        "print(\"3)\", First_sport.getdirection())"
      ],
      "metadata": {
        "colab": {
          "base_uri": "https://localhost:8080/"
        },
        "id": "6nZluCbmxWWY",
        "outputId": "6241a49c-9fe9-4ae4-f5b8-af1f249d0040"
      },
      "execution_count": null,
      "outputs": [
        {
          "output_type": "stream",
          "name": "stdout",
          "text": [
            "1) UFC\n",
            "2) Box\n",
            "3) MMA\n"
          ]
        }
      ]
    },
    {
      "cell_type": "code",
      "source": [
        "Second_sport = Sport('FootBall')\n",
        "print(\"1)\", Second_sport.getdirection())\n",
        "Second_sport.setdirection(\"BasketBall\")\n",
        "print(\"2)\", Second_sport.getdirection())\n",
        "Second_sport.direction = 'VoleyBall'\n",
        "print(\"3)\", Second_sport.getdirection())"
      ],
      "metadata": {
        "colab": {
          "base_uri": "https://localhost:8080/"
        },
        "id": "L0l24tTE8cls",
        "outputId": "1f91ca66-a468-49fa-96a0-957b6d9262d9"
      },
      "execution_count": null,
      "outputs": [
        {
          "output_type": "stream",
          "name": "stdout",
          "text": [
            "1) FootBall\n",
            "2) BasketBall\n",
            "3) VoleyBall\n"
          ]
        }
      ]
    },
    {
      "cell_type": "markdown",
      "source": [
        "**Decorators**"
      ],
      "metadata": {
        "id": "3CBLFpBG9Lw4"
      }
    },
    {
      "cell_type": "code",
      "source": [
        "def Outer(variable):\n",
        "  print('Tommy Shelby')\n",
        "  def First_inner():\n",
        "    print('Michael Grey')\n",
        "  def Second_inner():\n",
        "    print('Poly Grey')\n",
        "  if variable > 10:\n",
        "    return First_inner\n",
        "  else:\n",
        "    return Second_inner\n",
        "\n",
        "answer = Outer(7)\n",
        "print(answer())"
      ],
      "metadata": {
        "colab": {
          "base_uri": "https://localhost:8080/"
        },
        "id": "RmFKwOMR9O4q",
        "outputId": "36398e4c-609a-42d8-c45f-63c3668adbdf"
      },
      "execution_count": 3,
      "outputs": [
        {
          "output_type": "stream",
          "name": "stdout",
          "text": [
            "Tommy Shelby\n",
            "Poly Grey\n",
            "None\n"
          ]
        }
      ]
    },
    {
      "cell_type": "code",
      "source": [
        "def Decorator_func(argument_func):\n",
        "  def Inside_func():\n",
        "    print(\"tommy shelby\")\n",
        "    argument_func()\n",
        "    print(\"poly grey\")\n",
        "  return Inside_func\n",
        "\n",
        "def parameter_func():\n",
        "  print(\"this is example\")\n",
        "\n",
        "answer = Decorator_func(parameter_func)\n",
        "print(answer)\n",
        "print(answer())"
      ],
      "metadata": {
        "colab": {
          "base_uri": "https://localhost:8080/"
        },
        "id": "LJFV4lSd_zks",
        "outputId": "d0ab65e2-59b4-4cdf-9804-d15e8743bc75"
      },
      "execution_count": 5,
      "outputs": [
        {
          "output_type": "stream",
          "name": "stdout",
          "text": [
            "<function Decorator_func.<locals>.Inside_func at 0x7fb5f4259ef0>\n",
            "tommy shelby\n",
            "this is example\n",
            "poly grey\n",
            "None\n"
          ]
        }
      ]
    },
    {
      "cell_type": "code",
      "source": [
        "def Decorator_func(argument_func):\n",
        "  def Inside_func():\n",
        "    print(\"tommy shelby\")\n",
        "    argument_func()\n",
        "    print(\"poly grey\")\n",
        "  return Inside_func\n",
        "\n",
        "@Decorator_func\n",
        "def parameter_func():\n",
        "  print(\"this is first example\")\n",
        "\n",
        "@Decorator_func\n",
        "def normal_func():\n",
        "  print(\"this is second example\")\n",
        "\n",
        "answer = parameter_func()\n",
        "print(answer)\n",
        "print(\"-------------------------\")\n",
        "answer_2 = normal_func()\n",
        "print(answer_2)"
      ],
      "metadata": {
        "colab": {
          "base_uri": "https://localhost:8080/"
        },
        "id": "DQEuPDAeBuNl",
        "outputId": "ba827951-9ef3-4498-b8fd-10ec128589d8"
      },
      "execution_count": 9,
      "outputs": [
        {
          "output_type": "stream",
          "name": "stdout",
          "text": [
            "tommy shelby\n",
            "this is first example\n",
            "poly grey\n",
            "None\n",
            "-------------------------\n",
            "tommy shelby\n",
            "this is second example\n",
            "poly grey\n",
            "None\n"
          ]
        }
      ]
    },
    {
      "cell_type": "markdown",
      "source": [
        "**@property**"
      ],
      "metadata": {
        "id": "sRVfjmR3NOjg"
      }
    },
    {
      "cell_type": "code",
      "source": [
        "class Machine:\n",
        "  def __init__(self, color):\n",
        "    self.__color = color\n",
        "    \n",
        "  @property\n",
        "  def color(self):\n",
        "    return self.__color\n",
        "  \n",
        "  @color.setter\n",
        "  def color(self, color):\n",
        "    self.__color = color\n",
        "\n",
        "answer = Machine('yellow')\n",
        "print(answer.color)\n",
        "answer.color = 'Black'\n",
        "print(answer.color)"
      ],
      "metadata": {
        "colab": {
          "base_uri": "https://localhost:8080/"
        },
        "id": "Eluth2X1DMiy",
        "outputId": "3adf7c54-ed7a-4547-bdeb-fb3722e05162"
      },
      "execution_count": 16,
      "outputs": [
        {
          "output_type": "stream",
          "name": "stdout",
          "text": [
            "yellow\n",
            "Black\n"
          ]
        }
      ]
    },
    {
      "cell_type": "markdown",
      "source": [
        "**@classmethod**"
      ],
      "metadata": {
        "id": "x2enXxuwQtjn"
      }
    },
    {
      "cell_type": "code",
      "source": [
        "class Car:\n",
        "  cars_count = 0\n",
        "  def __init__(self, color):\n",
        "    self.__color = color\n",
        "    Car.cars_count = Car.cars_count + 1\n",
        "  \n",
        "  @classmethod\n",
        "  def Counter(car_class):\n",
        "    print(\"there is/are: \", car_class.cars_count, \" car\")\n",
        "\n",
        "car_1 = Car('Black')\n",
        "print(car_1.Counter())\n",
        "car_2 = Car('Blue')\n",
        "print(car_2.Counter())"
      ],
      "metadata": {
        "colab": {
          "base_uri": "https://localhost:8080/"
        },
        "id": "9Y2n9zJKQzg_",
        "outputId": "892bed7a-4c5b-49dd-b1af-da9d77825725"
      },
      "execution_count": 20,
      "outputs": [
        {
          "output_type": "stream",
          "name": "stdout",
          "text": [
            "there is/are:  1  car\n",
            "None\n",
            "there is/are:  2  car\n",
            "None\n"
          ]
        }
      ]
    },
    {
      "cell_type": "markdown",
      "source": [
        "**@staticmethod**"
      ],
      "metadata": {
        "id": "RLGuWZXwV9yj"
      }
    },
    {
      "cell_type": "code",
      "source": [
        "class Cars:\n",
        "  cars_count = 0\n",
        "  def __init__(self, model):\n",
        "    self.__model = model\n",
        "    Cars.cars_count += 1\n",
        "  \n",
        "  @property\n",
        "  def model(self):\n",
        "    return self.__model\n",
        "  \n",
        "  @model.setter\n",
        "  def model(self, model):\n",
        "    self.__model = model\n",
        "  \n",
        "  @staticmethod\n",
        "  def Blinders():\n",
        "    print(\"By order of the peacky blinders!\")\n",
        "  \n",
        "  @classmethod\n",
        "  def Counter(class_name):\n",
        "    print(\"there are: \", class_name.cars_count, \" cars.\")\n",
        "\n",
        "car_1 = Cars(\"Mercedes\")\n",
        "print(car_1.model)\n",
        "car_1.model = 'Opel'\n",
        "print(car_1.model)\n",
        "car_1.Blinders()\n",
        "print(car_1.Counter())\n",
        "print(\"------------------------\")\n",
        "car_2 = Cars(\"BMW\")\n",
        "print(car_2.model)\n",
        "car_2.model = 'Ford'\n",
        "print(car_2.model)\n",
        "car_2.Blinders()\n",
        "print(\"------------------------\")\n",
        "print(car_2.Counter())"
      ],
      "metadata": {
        "colab": {
          "base_uri": "https://localhost:8080/"
        },
        "id": "XRnfQv2rWAsc",
        "outputId": "9f5070f9-d9df-4e27-b492-bb42ffd3cbb5"
      },
      "execution_count": 29,
      "outputs": [
        {
          "output_type": "stream",
          "name": "stdout",
          "text": [
            "Mercedes\n",
            "Opel\n",
            "By order of the peacky blinders!\n",
            "there are:  1  cars.\n",
            "None\n",
            "------------------------\n",
            "BMW\n",
            "Ford\n",
            "By order of the peacky blinders!\n",
            "------------------------\n",
            "there are:  2  cars.\n",
            "None\n"
          ]
        }
      ]
    },
    {
      "cell_type": "markdown",
      "source": [
        "**class inheritance**"
      ],
      "metadata": {
        "id": "WPjFEVBMZ3IF"
      }
    },
    {
      "cell_type": "code",
      "source": [
        "class Vehicle:\n",
        "  def __init__(self, color):\n",
        "    self.color = color\n",
        "  def Hello(self):\n",
        "    print(\"Hello World From Vehicle class!\")\n",
        "\n",
        "class Factory:\n",
        "  def __init__(self):\n",
        "    pass\n",
        "  def Build(self):\n",
        "    print(\"This is a Factory class!\")\n",
        "\n",
        "class Child(Vehicle, Factory):\n",
        "  pass\n",
        "\n",
        "car_1 = Child(\"Black\")\n",
        "car_1.Hello()\n",
        "print(\"-----------------------------\")\n",
        "car_2.Build()\n"
      ],
      "metadata": {
        "colab": {
          "base_uri": "https://localhost:8080/"
        },
        "id": "8EYmMcC5Z6ei",
        "outputId": "25bc16a5-ec2a-43e2-8999-2cc106c759a0"
      },
      "execution_count": 42,
      "outputs": [
        {
          "output_type": "stream",
          "name": "stdout",
          "text": [
            "Hello World From Vehicle class!\n",
            "-----------------------------\n",
            "This is a Factory class!\n"
          ]
        }
      ]
    },
    {
      "cell_type": "code",
      "source": [
        "class Machines:\n",
        "  def __init__(self, model, color, year):\n",
        "    self.model = model\n",
        "    self.color = color\n",
        "    self.year = year\n",
        "  def Output(self):\n",
        "    print(\"I have \", self.color, self.model)\n",
        "\n",
        "class Sedan(Machines):\n",
        "  def __init__(self, model, color):\n",
        "    self.model = model\n",
        "    self.color = color\n",
        "  def Most(self):\n",
        "    print(\"My \", self.color,  self.model, \" is the Fastest car!\")\n",
        "  \n",
        "class Cupe(Sedan):\n",
        "  def __init__(self, price):\n",
        "    self.price = price\n",
        "  def Change(self, price, discount):\n",
        "    self.price = price * (1 - discount)\n",
        "\n",
        "car_1 = Sedan('BMW', 'Black')\n",
        "car_1.Output()\n",
        "car_1.Most()\n",
        "print(\"-------------------------------------------\")\n",
        "car_2 = Cupe(10000)\n",
        "car_2.Change(car_2.price, 0.2)\n",
        "print(car_2.price)"
      ],
      "metadata": {
        "colab": {
          "base_uri": "https://localhost:8080/"
        },
        "id": "m2kMMl3Lje0K",
        "outputId": "0caf7db7-7edf-4dac-c960-057e2a406cdd"
      },
      "execution_count": 51,
      "outputs": [
        {
          "output_type": "stream",
          "name": "stdout",
          "text": [
            "I have  Black BMW\n",
            "My  Black BMW  is the Fastest car!\n",
            "-------------------------------------------\n",
            "8000.0\n"
          ]
        }
      ]
    },
    {
      "cell_type": "code",
      "source": [
        "class Sport:\n",
        "  def __init__(self):\n",
        "    pass\n",
        "  def First_answer(self):\n",
        "    print(\"This is Parent Class!\")\n",
        "\n",
        "class UFC(Sport):\n",
        "  def __init__(self, figher):\n",
        "    self.figher = figher\n",
        "  def Show(self):\n",
        "    print(\"Name of this figher is \", self.figher)\n",
        "    super().First_answer()\n",
        "\n",
        "war_1 = UFC('Conor McGregor')\n",
        "war_1.Show()"
      ],
      "metadata": {
        "colab": {
          "base_uri": "https://localhost:8080/"
        },
        "id": "EFKHUysVmL6L",
        "outputId": "3eb37569-a0c7-43bc-d0b5-869065f4ccb5"
      },
      "execution_count": 54,
      "outputs": [
        {
          "output_type": "stream",
          "name": "stdout",
          "text": [
            "Name of this figher is  Conor McGregor\n",
            "This is Parent Class!\n"
          ]
        }
      ]
    }
  ]
}