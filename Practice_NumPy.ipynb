{
 "cells": [
  {
   "cell_type": "code",
   "execution_count": 1,
   "id": "af5609b1",
   "metadata": {},
   "outputs": [],
   "source": [
    "import numpy as np"
   ]
  },
  {
   "cell_type": "code",
   "execution_count": 2,
   "id": "f77a5bb3",
   "metadata": {},
   "outputs": [
    {
     "name": "stdout",
     "output_type": "stream",
     "text": [
      "[185.  184.8 184.6 184.4 184.2 184.  183.8 183.6 183.4 183.2 183.  182.8\n",
      " 182.6 182.4 182.2 182.  181.8 181.6 181.4 181.2 181.  180.8 180.6 180.4\n",
      " 180.2 180.  179.8 179.6 179.4 179.2 179.  178.8 178.6 178.4 178.2]\n"
     ]
    }
   ],
   "source": [
    "# build array with your average weight per week:\n",
    "\n",
    "day_weight = 185 - np.arange(5*7)/5\n",
    "print(day_weight)"
   ]
  },
  {
   "cell_type": "code",
   "execution_count": 3,
   "id": "0fd3e566",
   "metadata": {},
   "outputs": [
    {
     "name": "stdout",
     "output_type": "stream",
     "text": [
      "[184.4 183.  181.6 180.2 178.8]\n"
     ]
    }
   ],
   "source": [
    "avg_array = np.array([])\n",
    "num_array = np.array([])\n",
    "avg_number = 0\n",
    "for item in range(len(day_weight)):\n",
    "    num_array = np.append(num_array, day_weight[item])\n",
    "    if len(num_array) == 7:\n",
    "        avg_number = np.average(num_array)\n",
    "        avg_array = np.append(avg_array, avg_number)\n",
    "        # refresh variables:\n",
    "        num_array = np.array([])\n",
    "        avg_number = 0\n",
    "\n",
    "print(avg_array)    "
   ]
  },
  {
   "cell_type": "code",
   "execution_count": 4,
   "id": "f7fbaad6",
   "metadata": {},
   "outputs": [
    {
     "name": "stdout",
     "output_type": "stream",
     "text": [
      "[183.9 182.5 181.1 179.7 178.3]\n"
     ]
    }
   ],
   "source": [
    "# build array with your average weight per weekend:\n",
    "# first solution:\n",
    "first = np.array([])\n",
    "second = np.array([])\n",
    "third = np.array([])\n",
    "four = np.array([])\n",
    "five = np.array([])\n",
    "for item in range(len(day_weight)):\n",
    "    if item <= 6:\n",
    "        first = np.append(first, day_weight[item])\n",
    "    elif item > 6 and item <= 13:\n",
    "        second = np.append(second, day_weight[item])\n",
    "    elif item > 13 and item <= 20:\n",
    "        third = np.append(third, day_weight[item])\n",
    "    elif item > 20 and item <= 27:\n",
    "        four = np.append(four, day_weight[item])\n",
    "    else:\n",
    "        five = np.append(five, day_weight[item])\n",
    "\n",
    "first = first[-2:]\n",
    "second = second[-2:]\n",
    "third = third[-2:]\n",
    "four = four[-2:]\n",
    "five = five[-2:]\n",
    "\n",
    "answer_array = np.array([])\n",
    "answer_array = np.append(answer_array, np.average(first))\n",
    "answer_array = np.append(answer_array, np.average(second))\n",
    "answer_array = np.append(answer_array, np.average(third))\n",
    "answer_array = np.append(answer_array, np.average(four))\n",
    "answer_array = np.append(answer_array, np.average(five))\n",
    "print(answer_array)"
   ]
  },
  {
   "cell_type": "code",
   "execution_count": 5,
   "id": "d59da4f9",
   "metadata": {},
   "outputs": [
    {
     "name": "stdout",
     "output_type": "stream",
     "text": [
      "[183.9 182.5 181.1 179.7 178.3]\n"
     ]
    }
   ],
   "source": [
    "# second solution:\n",
    "saturday = day_weight[5::7]\n",
    "sunday = day_weight[6::7]\n",
    "answer_1 = (saturday + sunday) / 2\n",
    "print(answer_1)"
   ]
  },
  {
   "cell_type": "code",
   "execution_count": 6,
   "id": "2f70ddd9",
   "metadata": {},
   "outputs": [
    {
     "name": "stdout",
     "output_type": "stream",
     "text": [
      "[[2 3 0 5 2 0 3]\n",
      " [8 8 0 7 1 5 3]\n",
      " [0 1 6 2 1 4 5]\n",
      " [4 0 8 9 9 8 7]\n",
      " [4 2 7 0 7 2 1]\n",
      " [9 8 9 2 5 0 8]\n",
      " [1 9 8 2 6 4 3]]\n"
     ]
    }
   ],
   "source": [
    "# find silver quantity found in each coordinate:\n",
    "np.random.seed(5555)\n",
    "silver = np.random.randint(0,10,size = (7,7))\n",
    "print(silver)"
   ]
  },
  {
   "cell_type": "code",
   "execution_count": 7,
   "id": "c802f23a",
   "metadata": {},
   "outputs": [
    {
     "name": "stdout",
     "output_type": "stream",
     "text": [
      "[[0 4]\n",
      " [2 2]\n",
      " [2 3]\n",
      " [5 1]\n",
      " [6 3]]\n"
     ]
    }
   ],
   "source": [
    "locations = np.array([\n",
    "    [0,4],\n",
    "    [2,2],\n",
    "    [2,3],\n",
    "    [5,1],\n",
    "    [6,3]\n",
    "])\n",
    "print(locations)"
   ]
  },
  {
   "cell_type": "code",
   "execution_count": 8,
   "id": "9fc81b9f",
   "metadata": {},
   "outputs": [
    {
     "name": "stdout",
     "output_type": "stream",
     "text": [
      "found silver:  20\n"
     ]
    }
   ],
   "source": [
    "# first solution:\n",
    "quantity = 0\n",
    "for i in locations:\n",
    "    quantity += silver[i[0],i[-1]]\n",
    "print(\"found silver: \", quantity)"
   ]
  },
  {
   "cell_type": "code",
   "execution_count": 9,
   "id": "df726f5c",
   "metadata": {},
   "outputs": [
    {
     "name": "stdout",
     "output_type": "stream",
     "text": [
      "found silver:  20\n"
     ]
    }
   ],
   "source": [
    "# second solution:\n",
    "answer_2 = silver[[0,2,2,5,6], [4,2,3,1,3]]\n",
    "print(\"found silver: \", np.sum(answer_2))"
   ]
  },
  {
   "cell_type": "code",
   "execution_count": 10,
   "id": "30e7ab9d",
   "metadata": {},
   "outputs": [
    {
     "name": "stdout",
     "output_type": "stream",
     "text": [
      "[0 2 2 5 6] [4 2 3 1 3]\n",
      "found silver:  20\n"
     ]
    }
   ],
   "source": [
    "# third solution:\n",
    "print(locations[:,0], locations[:,1])\n",
    "answer_3 = silver[locations[:,0], locations[:,1]]\n",
    "print(\"found silver: \", np.sum(answer_3))"
   ]
  },
  {
   "cell_type": "code",
   "execution_count": 11,
   "id": "7fd02f21",
   "metadata": {},
   "outputs": [
    {
     "name": "stdout",
     "output_type": "stream",
     "text": [
      "[2. 6.]\n"
     ]
    }
   ],
   "source": [
    "# find differrence between (first array's first element, second array's last element) and 30\n",
    "# first solution:\n",
    "arr_1 = np.array([17.0, 28.0])\n",
    "arr_2 = np.array([32.0, 36.0])\n",
    "arr_1 = np.insert(arr_1, 1, np.average(arr_1))\n",
    "arr_2 = np.insert(arr_2, 1, np.average(arr_2))\n",
    "arr_2 = np.flip(arr_2)\n",
    "answer_4 = np.array([])\n",
    "answer_4 = np.append(answer_4, 30 - arr_1[-1])\n",
    "answer_4 = np.append(answer_4, arr_2[0] - 30)\n",
    "print(answer_4)"
   ]
  },
  {
   "cell_type": "code",
   "execution_count": 12,
   "id": "762593af",
   "metadata": {},
   "outputs": [
    {
     "name": "stdout",
     "output_type": "stream",
     "text": [
      "[2. 6.]\n"
     ]
    }
   ],
   "source": [
    "# second solution:\n",
    "one = np.linspace(17,28,3)\n",
    "one = np.append(one, np.flip(np.linspace(32,36,3)))\n",
    "print(np.abs(one[2:4] - 30))"
   ]
  },
  {
   "cell_type": "code",
   "execution_count": 13,
   "id": "b0583133",
   "metadata": {},
   "outputs": [
    {
     "name": "stdout",
     "output_type": "stream",
     "text": [
      "[2. 6.]\n"
     ]
    }
   ],
   "source": [
    "answer_5 = np.linspace([17,32], [28,36], 3)\n",
    "print(np.abs(answer_5[2,:]-30))"
   ]
  },
  {
   "cell_type": "code",
   "execution_count": 14,
   "id": "7404bae2",
   "metadata": {},
   "outputs": [
    {
     "name": "stdout",
     "output_type": "stream",
     "text": [
      "[ 9.5  53.58 91.77 98.15 84.88 74.61 40.94 56.49  8.39 64.69]\n"
     ]
    }
   ],
   "source": [
    "# create a matrix where gives the absolute difference of the love scores for person i and person j\n",
    "generator = np.random.default_rng(1010)\n",
    "love_scores = np.round(generator.uniform(0, 100, 10),2)\n",
    "answer = np.copy(love_scores)\n",
    "print(answer)"
   ]
  },
  {
   "cell_type": "code",
   "execution_count": 15,
   "id": "398f08d5",
   "metadata": {},
   "outputs": [
    {
     "name": "stdout",
     "output_type": "stream",
     "text": [
      "[]\n",
      "[ 8.39 98.15  9.5  91.77 40.94 84.88 53.58 74.61 56.49 64.69]\n"
     ]
    }
   ],
   "source": [
    "result = np.array([])\n",
    "\n",
    "for i in range(5):\n",
    "    result = np.append(result, answer.min())\n",
    "    result = np.append(result, answer.max())\n",
    "    index_1 = np.where(answer == answer.min())\n",
    "    index_2 = np.where(answer == answer.max())\n",
    "    answer = np.delete(answer, [index_1, index_2])\n",
    "print(answer)\n",
    "print(result)"
   ]
  },
  {
   "cell_type": "code",
   "execution_count": 16,
   "id": "4f543844",
   "metadata": {},
   "outputs": [
    {
     "name": "stdout",
     "output_type": "stream",
     "text": [
      "[[ 8.39 98.15]\n",
      " [ 9.5  91.77]\n",
      " [40.94 84.88]\n",
      " [53.58 74.61]\n",
      " [56.49 64.69]]\n"
     ]
    }
   ],
   "source": [
    "result = result.reshape(5,2)\n",
    "print(result)"
   ]
  },
  {
   "cell_type": "code",
   "execution_count": 17,
   "id": "d7f7b15a",
   "metadata": {},
   "outputs": [
    {
     "name": "stdout",
     "output_type": "stream",
     "text": [
      "[[ 8.39 64.69]\n",
      " [ 9.5  74.61]\n",
      " [40.94 84.88]\n",
      " [53.58 91.77]\n",
      " [56.49 98.15]]\n"
     ]
    }
   ],
   "source": [
    "result[:,1] = np.flip(result[:,1])\n",
    "print(result)"
   ]
  },
  {
   "cell_type": "code",
   "execution_count": 18,
   "id": "d45096d4",
   "metadata": {},
   "outputs": [
    {
     "name": "stdout",
     "output_type": "stream",
     "text": [
      "[[ 0.   44.08 82.27 88.65 75.38 65.11 31.44 46.99  1.11 55.19]\n",
      " [44.08  0.   38.19 44.57 31.3  21.03 12.64  2.91 45.19 11.11]\n",
      " [82.27 38.19  0.    6.38  6.89 17.16 50.83 35.28 83.38 27.08]\n",
      " [88.65 44.57  6.38  0.   13.27 23.54 57.21 41.66 89.76 33.46]\n",
      " [75.38 31.3   6.89 13.27  0.   10.27 43.94 28.39 76.49 20.19]\n",
      " [65.11 21.03 17.16 23.54 10.27  0.   33.67 18.12 66.22  9.92]\n",
      " [31.44 12.64 50.83 57.21 43.94 33.67  0.   15.55 32.55 23.75]\n",
      " [46.99  2.91 35.28 41.66 28.39 18.12 15.55  0.   48.1   8.2 ]\n",
      " [ 1.11 45.19 83.38 89.76 76.49 66.22 32.55 48.1   0.   56.3 ]\n",
      " [55.19 11.11 27.08 33.46 20.19  9.92 23.75  8.2  56.3   0.  ]]\n"
     ]
    }
   ],
   "source": [
    "np.set_printoptions(linewidth = 999)\n",
    "answer_6 = np.abs(love_scores[:, None] - love_scores[None, :])\n",
    "print(answer_6)"
   ]
  },
  {
   "cell_type": "code",
   "execution_count": 19,
   "id": "04c57e0b",
   "metadata": {},
   "outputs": [
    {
     "name": "stdout",
     "output_type": "stream",
     "text": [
      "[68. 36. 76. 57. 56. 54. 63. 64. 36. 88. 80. 82. 84. 76. 42.]\n"
     ]
    }
   ],
   "source": [
    "# given 1d array, identify the first three values less than sixty and replace them with zero\n",
    "generator = np.random.default_rng(80085)\n",
    "scores = np.round(generator.uniform(low=30, high=100, size=15))\n",
    "print(scores)"
   ]
  },
  {
   "cell_type": "code",
   "execution_count": 20,
   "id": "498586c3",
   "metadata": {},
   "outputs": [
    {
     "name": "stdout",
     "output_type": "stream",
     "text": [
      "[36. 57. 56.]\n"
     ]
    }
   ],
   "source": [
    "# one way:\n",
    "a = scores[scores < 60][0:3]\n",
    "print(a)"
   ]
  },
  {
   "cell_type": "code",
   "execution_count": 21,
   "id": "d454a761",
   "metadata": {},
   "outputs": [
    {
     "name": "stdout",
     "output_type": "stream",
     "text": [
      "[1. 8. 3. 4.]\n"
     ]
    }
   ],
   "source": [
    "b = np.array([])\n",
    "for i in a:\n",
    "    ind = np.where(scores == i)\n",
    "    b = np.append(b, ind)\n",
    "print(b)"
   ]
  },
  {
   "cell_type": "code",
   "execution_count": 22,
   "id": "249a1471",
   "metadata": {},
   "outputs": [
    {
     "name": "stdout",
     "output_type": "stream",
     "text": [
      "[68.  0. 76.  0. 56. 54. 63. 64.  0. 88. 80. 82. 84. 76. 42.]\n"
     ]
    }
   ],
   "source": [
    "for i in b[0:3]:\n",
    "    scores[int(i)] = 0\n",
    "print(scores)"
   ]
  },
  {
   "cell_type": "code",
   "execution_count": 23,
   "id": "7ee68da4",
   "metadata": {},
   "outputs": [
    {
     "name": "stdout",
     "output_type": "stream",
     "text": [
      "[68.  0. 76.  0.  0. 54. 63. 64.  0. 88. 80. 82. 84. 76. 42.]\n"
     ]
    }
   ],
   "source": [
    "# another solution\n",
    "scores[(scores < 60).nonzero()[0][:3]] = 0\n",
    "print(scores)"
   ]
  },
  {
   "cell_type": "code",
   "execution_count": 24,
   "id": "345304ed",
   "metadata": {},
   "outputs": [
    {
     "name": "stdout",
     "output_type": "stream",
     "text": [
      "[[0. 0. 0. 0. 0. 0. 0. 0. 0. 0.]\n",
      " [0. 0. 0. 0. 0. 0. 0. 0. 0. 0.]\n",
      " [0. 0. 0. 0. 0. 0. 0. 0. 0. 0.]\n",
      " [0. 0. 0. 0. 0. 0. 0. 0. 0. 0.]\n",
      " [0. 0. 0. 0. 0. 0. 0. 0. 0. 0.]\n",
      " [0. 0. 0. 0. 0. 0. 0. 0. 0. 0.]\n",
      " [0. 0. 0. 0. 0. 0. 0. 0. 0. 0.]\n",
      " [0. 0. 0. 0. 0. 0. 0. 0. 0. 0.]\n",
      " [0. 0. 0. 0. 0. 0. 0. 0. 0. 0.]\n",
      " [0. 0. 0. 0. 0. 0. 0. 0. 0. 0.]]\n"
     ]
    }
   ],
   "source": [
    "# define 20 random unique locations where gold will be hidden:\n",
    "field = np.zeros(shape = (10,10))\n",
    "print(field)"
   ]
  },
  {
   "cell_type": "code",
   "execution_count": 25,
   "id": "06d1a63f",
   "metadata": {},
   "outputs": [
    {
     "name": "stdout",
     "output_type": "stream",
     "text": [
      "[[3 4]\n",
      " [8 0]\n",
      " [0 7]\n",
      " [6 4]\n",
      " [4 5]\n",
      " [6 3]\n",
      " [2 9]\n",
      " [5 2]\n",
      " [8 9]\n",
      " [9 3]\n",
      " [2 0]\n",
      " [1 9]\n",
      " [1 3]\n",
      " [6 8]\n",
      " [7 6]\n",
      " [2 6]\n",
      " [6 1]\n",
      " [6 2]\n",
      " [8 1]\n",
      " [8 8]]\n"
     ]
    }
   ],
   "source": [
    "map_1 = np.arange(100)\n",
    "# define random places:\n",
    "rand_numb = np.array([])\n",
    "while len(rand_numb) < 20:\n",
    "    chosen = np.random.choice(map_1)\n",
    "    if chosen not in rand_numb:\n",
    "        rand_numb = np.append(rand_numb, chosen)\n",
    "# reshape field:\n",
    "map_1 = map_1.reshape(10,10)\n",
    "# define coordinates:\n",
    "locations = np.array([])\n",
    "for item in rand_numb:\n",
    "    locations = np.append(locations, np.where(map_1 == item))\n",
    "locations = locations.reshape(20,2).astype(int)\n",
    "print(locations)"
   ]
  },
  {
   "cell_type": "code",
   "execution_count": 26,
   "id": "5c2e95c0",
   "metadata": {},
   "outputs": [
    {
     "name": "stdout",
     "output_type": "stream",
     "text": [
      "[[ 0.  0.  0.  0.  0.  0.  0. 48.  0.  0.]\n",
      " [ 0.  0.  0. 34.  0.  0.  0.  0.  0. 29.]\n",
      " [27.  0.  0.  0.  0.  0. 47.  0.  0. 21.]\n",
      " [ 0.  0.  0.  0. 20.  0.  0.  0.  0.  0.]\n",
      " [ 0.  0.  0.  0.  0. 49.  0.  0.  0.  0.]\n",
      " [ 0.  0. 26.  0.  0.  0.  0.  0.  0.  0.]\n",
      " [ 0. 39. 26. 27. 26.  0.  0.  0. 36.  0.]\n",
      " [ 0.  0.  0.  0.  0.  0. 33.  0.  0.  0.]\n",
      " [20. 17.  0.  0.  0.  0.  0.  0. 12. 15.]\n",
      " [ 0.  0.  0. 34.  0.  0.  0.  0.  0.  0.]]\n"
     ]
    }
   ],
   "source": [
    "for i in range(20):\n",
    "    field[locations[i][0], locations[i][1]] = np.random.randint(11,51)\n",
    "print(field)"
   ]
  },
  {
   "cell_type": "code",
   "execution_count": 27,
   "id": "f7a37283",
   "metadata": {},
   "outputs": [
    {
     "name": "stdout",
     "output_type": "stream",
     "text": [
      "[48. 34. 29. 27. 47. 21. 20. 49. 26. 39. 26. 27. 26. 36. 33. 20. 17. 12. 15. 34.]\n",
      "20\n"
     ]
    }
   ],
   "source": [
    "print(field.ravel()[field.ravel() > 0])\n",
    "print(len(field.ravel()[field.ravel() > 0]))"
   ]
  },
  {
   "cell_type": "code",
   "execution_count": 70,
   "id": "3c5f8e44",
   "metadata": {},
   "outputs": [
    {
     "name": "stdout",
     "output_type": "stream",
     "text": [
      "[[ 7.  1.]\n",
      " [nan  2.]\n",
      " [nan  8.]\n",
      " [ 9.  3.]\n",
      " [ 8.  9.]\n",
      " [ 5.  2.]\n",
      " [ 8.  2.]\n",
      " [nan  6.]\n",
      " [ 9.  2.]\n",
      " [nan  5.]]\n"
     ]
    }
   ],
   "source": [
    "generator = np.random.default_rng(123)\n",
    "ratings = np.round(generator.uniform(low = 0, high = 10.0, size = (10,2)))\n",
    "ratings[[1,2,7,9], [0,0,0,0]] = np.nan\n",
    "print(ratings)"
   ]
  },
  {
   "cell_type": "code",
   "execution_count": 59,
   "id": "d6d15c56",
   "metadata": {},
   "outputs": [
    {
     "name": "stdout",
     "output_type": "stream",
     "text": [
      "[[7.]\n",
      " [2.]\n",
      " [8.]\n",
      " [9.]\n",
      " [8.]\n",
      " [5.]\n",
      " [8.]\n",
      " [6.]\n",
      " [9.]\n",
      " [5.]]\n"
     ]
    }
   ],
   "source": [
    "# first solution:\n",
    "third = np.array([])\n",
    "for i in ratings:\n",
    "    if i[0]>0:\n",
    "        third = np.append(third, i[0])\n",
    "    else:\n",
    "        third = np.append(third, i[1])\n",
    "third = third.reshape(10,1)\n",
    "print(third)"
   ]
  },
  {
   "cell_type": "code",
   "execution_count": 60,
   "id": "39970e31",
   "metadata": {},
   "outputs": [
    {
     "name": "stdout",
     "output_type": "stream",
     "text": [
      "[[ 7.  1.  7.]\n",
      " [nan  2.  2.]\n",
      " [nan  8.  8.]\n",
      " [ 9.  3.  9.]\n",
      " [ 8.  9.  8.]\n",
      " [ 5.  2.  5.]\n",
      " [ 8.  2.  8.]\n",
      " [nan  6.  6.]\n",
      " [ 9.  2.  9.]\n",
      " [nan  5.  5.]]\n"
     ]
    }
   ],
   "source": [
    "ratings = np.append(ratings, third, axis = 1)\n",
    "print(ratings)"
   ]
  },
  {
   "cell_type": "code",
   "execution_count": 64,
   "id": "25e6543b",
   "metadata": {},
   "outputs": [
    {
     "name": "stdout",
     "output_type": "stream",
     "text": [
      "[7. 2. 8. 9. 8. 5. 8. 6. 9. 5.]\n"
     ]
    }
   ],
   "source": [
    "# second solution:\n",
    "var = np.where(np.isnan(ratings[:,0]), ratings[:,1], ratings[:,0])\n",
    "print(var)"
   ]
  },
  {
   "cell_type": "code",
   "execution_count": 69,
   "id": "2c989e67",
   "metadata": {},
   "outputs": [
    {
     "name": "stdout",
     "output_type": "stream",
     "text": [
      "[[ 7.  1.  7.]\n",
      " [nan  2.  2.]\n",
      " [nan  8.  8.]\n",
      " [ 9.  3.  9.]\n",
      " [ 8.  9.  8.]\n",
      " [ 5.  2.  5.]\n",
      " [ 8.  2.  8.]\n",
      " [nan  6.  6.]\n",
      " [ 9.  2.  9.]\n",
      " [nan  5.  5.]]\n"
     ]
    }
   ],
   "source": [
    "answer = np.insert(arr = ratings, values = var, axis = 1, obj = 2)\n",
    "print(answer)"
   ]
  },
  {
   "cell_type": "code",
   "execution_count": 72,
   "id": "5d01ee33",
   "metadata": {},
   "outputs": [
    {
     "name": "stdout",
     "output_type": "stream",
     "text": [
      "[[7.]\n",
      " [2.]\n",
      " [8.]\n",
      " [9.]\n",
      " [8.]\n",
      " [5.]\n",
      " [8.]\n",
      " [6.]\n",
      " [9.]\n",
      " [5.]]\n"
     ]
    }
   ],
   "source": [
    "var = var.reshape(10,1)\n",
    "print(var)"
   ]
  },
  {
   "cell_type": "code",
   "execution_count": 73,
   "id": "10fbbaa3",
   "metadata": {},
   "outputs": [
    {
     "name": "stdout",
     "output_type": "stream",
     "text": [
      "[[ 7.  1.  7.]\n",
      " [nan  2.  2.]\n",
      " [nan  8.  8.]\n",
      " [ 9.  3.  9.]\n",
      " [ 8.  9.  8.]\n",
      " [ 5.  2.  5.]\n",
      " [ 8.  2.  8.]\n",
      " [nan  6.  6.]\n",
      " [ 9.  2.  9.]\n",
      " [nan  5.  5.]]\n"
     ]
    }
   ],
   "source": [
    "result = np.hstack((ratings, var))\n",
    "print(result)"
   ]
  }
 ],
 "metadata": {
  "kernelspec": {
   "display_name": "Python 3 (ipykernel)",
   "language": "python",
   "name": "python3"
  },
  "language_info": {
   "codemirror_mode": {
    "name": "ipython",
    "version": 3
   },
   "file_extension": ".py",
   "mimetype": "text/x-python",
   "name": "python",
   "nbconvert_exporter": "python",
   "pygments_lexer": "ipython3",
   "version": "3.9.12"
  }
 },
 "nbformat": 4,
 "nbformat_minor": 5
}
