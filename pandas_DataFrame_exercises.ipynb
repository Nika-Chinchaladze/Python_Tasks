{
  "nbformat": 4,
  "nbformat_minor": 0,
  "metadata": {
    "colab": {
      "provenance": []
    },
    "kernelspec": {
      "name": "python3",
      "display_name": "Python 3"
    },
    "language_info": {
      "name": "python"
    }
  },
  "cells": [
    {
      "cell_type": "code",
      "execution_count": 2,
      "metadata": {
        "colab": {
          "base_uri": "https://localhost:8080/"
        },
        "id": "yRmsiEUj_s1l",
        "outputId": "89d67ece-cf9b-4432-d508-a0a905ab3c0c"
      },
      "outputs": [
        {
          "output_type": "stream",
          "name": "stdout",
          "text": [
            "Mounted at /content/drive\n"
          ]
        }
      ],
      "source": [
        "import pandas as pd\n",
        "from google.colab import drive\n",
        "drive.mount('/content/drive')"
      ]
    },
    {
      "cell_type": "code",
      "source": [
        "df = pd.read_csv(\"/content/drive/MyDrive/tested_worldwide.csv\")\n",
        "print(df.head())"
      ],
      "metadata": {
        "colab": {
          "base_uri": "https://localhost:8080/"
        },
        "id": "F_mh0riJAKCY",
        "outputId": "4da193bb-5131-4fd9-ae38-abc58d613b94"
      },
      "execution_count": 31,
      "outputs": [
        {
          "output_type": "stream",
          "name": "stdout",
          "text": [
            "         Date Country_Region Province_State  positive  active  hospitalized  \\\n",
            "0  2020-01-16        Iceland     All States       3.0     NaN           NaN   \n",
            "1  2020-01-17        Iceland     All States       4.0     NaN           NaN   \n",
            "2  2020-01-18        Iceland     All States       7.0     NaN           NaN   \n",
            "3  2020-01-20    South Korea     All States       1.0     NaN           NaN   \n",
            "4  2020-01-22  United States     All States       0.0     NaN           NaN   \n",
            "\n",
            "   hospitalizedCurr  recovered  death  total_tested  daily_tested  \\\n",
            "0               NaN        NaN    NaN           NaN           NaN   \n",
            "1               NaN        NaN    NaN           NaN           NaN   \n",
            "2               NaN        NaN    NaN           NaN           NaN   \n",
            "3               NaN        NaN    NaN           4.0           NaN   \n",
            "4               NaN        NaN    0.0           0.0           NaN   \n",
            "\n",
            "   daily_positive  \n",
            "0             NaN  \n",
            "1             1.0  \n",
            "2             3.0  \n",
            "3             NaN  \n",
            "4             NaN  \n"
          ]
        }
      ]
    },
    {
      "cell_type": "code",
      "source": [
        "a = df['Country_Region'].str.lower()\n",
        "print(a.head(3))\n",
        "print(type(a))\n"
      ],
      "metadata": {
        "colab": {
          "base_uri": "https://localhost:8080/"
        },
        "id": "Urs4ydHEAcjq",
        "outputId": "ab3dd250-77e2-4876-b469-3931632457ff"
      },
      "execution_count": 32,
      "outputs": [
        {
          "output_type": "stream",
          "name": "stdout",
          "text": [
            "0    iceland\n",
            "1    iceland\n",
            "2    iceland\n",
            "Name: Country_Region, dtype: object\n",
            "<class 'pandas.core.series.Series'>\n"
          ]
        }
      ]
    },
    {
      "cell_type": "code",
      "source": [
        "b = df['Country_Region'].str.upper()\n",
        "print(b.head(3))"
      ],
      "metadata": {
        "colab": {
          "base_uri": "https://localhost:8080/"
        },
        "id": "rPeCgGaRBhI6",
        "outputId": "7d0d453e-e657-4aae-a6eb-43b1b0f93552"
      },
      "execution_count": 33,
      "outputs": [
        {
          "output_type": "stream",
          "name": "stdout",
          "text": [
            "0    ICELAND\n",
            "1    ICELAND\n",
            "2    ICELAND\n",
            "Name: Country_Region, dtype: object\n"
          ]
        }
      ]
    },
    {
      "cell_type": "code",
      "source": [
        "c = df['Province_State']\n",
        "first = pd.DataFrame()\n",
        "first['name'] = df['Province_State'].str.split(\" \").str.get(0)\n",
        "first['surname'] = df['Province_State'].str.split(\" \").str.get(1)\n",
        "print(first.head(5))"
      ],
      "metadata": {
        "colab": {
          "base_uri": "https://localhost:8080/"
        },
        "id": "GnpZP_tcEV8C",
        "outputId": "1b3bd83d-4b6b-4cdc-ce40-a0b009048954"
      },
      "execution_count": 34,
      "outputs": [
        {
          "output_type": "stream",
          "name": "stdout",
          "text": [
            "  name surname\n",
            "0  All  States\n",
            "1  All  States\n",
            "2  All  States\n",
            "3  All  States\n",
            "4  All  States\n"
          ]
        }
      ]
    },
    {
      "cell_type": "code",
      "source": [
        "# titanic[titanic[\"Name\"].str.contains(\"Countess\")]\n",
        "answer = df[df['Country_Region'].str.contains(\"Korea\")]\n",
        "print(answer.head())"
      ],
      "metadata": {
        "colab": {
          "base_uri": "https://localhost:8080/"
        },
        "id": "pX3vkuxJKeai",
        "outputId": "1a4bd433-9ace-4517-9d34-2ac0ccb68283"
      },
      "execution_count": 35,
      "outputs": [
        {
          "output_type": "stream",
          "name": "stdout",
          "text": [
            "           Date Country_Region Province_State  positive  active  hospitalized  \\\n",
            "3    2020-01-20    South Korea     All States       1.0     NaN           NaN   \n",
            "10   2020-01-24    South Korea     All States       2.0     NaN           NaN   \n",
            "38   2020-01-26    South Korea     All States       3.0     NaN           NaN   \n",
            "54   2020-01-27    South Korea     All States       4.0     NaN           NaN   \n",
            "101  2020-01-30    South Korea     All States       7.0     NaN           NaN   \n",
            "\n",
            "     hospitalizedCurr  recovered  death  total_tested  daily_tested  \\\n",
            "3                 NaN        NaN    NaN           4.0           NaN   \n",
            "10                NaN        NaN    NaN          27.0           5.0   \n",
            "38                NaN        NaN    NaN          51.0          12.0   \n",
            "54                NaN        NaN    NaN          61.0          10.0   \n",
            "101               NaN        NaN    NaN           NaN           NaN   \n",
            "\n",
            "     daily_positive  \n",
            "3               NaN  \n",
            "10              0.0  \n",
            "38              0.0  \n",
            "54              1.0  \n",
            "101             1.0  \n"
          ]
        }
      ]
    },
    {
      "cell_type": "code",
      "source": [
        "#print(df.head())\n",
        "\n",
        "result = df.loc[df['Country_Region'].str.len().idxmax(), 'Country_Region']\n",
        "print(result)"
      ],
      "metadata": {
        "colab": {
          "base_uri": "https://localhost:8080/"
        },
        "id": "rfHVs3UoOZkD",
        "outputId": "9d698d01-ab1f-4415-b5ef-fe179bd2d73c"
      },
      "execution_count": 40,
      "outputs": [
        {
          "output_type": "stream",
          "name": "stdout",
          "text": [
            "Democratic Republic of the Congo\n"
          ]
        }
      ]
    },
    {
      "cell_type": "code",
      "source": [
        "a = df\n",
        "a['Country_Region'] = a['Country_Region'].replace({'Iceland':'Peacky Blinders'})\n",
        "print(a)"
      ],
      "metadata": {
        "colab": {
          "base_uri": "https://localhost:8080/"
        },
        "id": "8LNYKaRghMOr",
        "outputId": "a4a204aa-2f26-472d-8a49-f86c8c139142"
      },
      "execution_count": 45,
      "outputs": [
        {
          "output_type": "stream",
          "name": "stdout",
          "text": [
            "             Date   Country_Region     Province_State  positive  active  \\\n",
            "0      2020-01-16  Peacky Blinders         All States       3.0     NaN   \n",
            "1      2020-01-17  Peacky Blinders         All States       4.0     NaN   \n",
            "2      2020-01-18  Peacky Blinders         All States       7.0     NaN   \n",
            "3      2020-01-20      South Korea         All States       1.0     NaN   \n",
            "4      2020-01-22    United States         All States       0.0     NaN   \n",
            "...           ...              ...                ...       ...     ...   \n",
            "27636  2020-11-09        Australia         Queensland       NaN     8.0   \n",
            "27637  2020-11-09        Australia    South Australia       NaN    19.0   \n",
            "27638  2020-11-09        Australia           Tasmania       NaN     0.0   \n",
            "27639  2020-11-09        Australia           Victoria       NaN     4.0   \n",
            "27640  2020-11-09        Australia  Western Australia       NaN    10.0   \n",
            "\n",
            "       hospitalized  hospitalizedCurr  recovered  death  total_tested  \\\n",
            "0               NaN               NaN        NaN    NaN           NaN   \n",
            "1               NaN               NaN        NaN    NaN           NaN   \n",
            "2               NaN               NaN        NaN    NaN           NaN   \n",
            "3               NaN               NaN        NaN    NaN           4.0   \n",
            "4               NaN               NaN        NaN    0.0           0.0   \n",
            "...             ...               ...        ...    ...           ...   \n",
            "27636           NaN               8.0     1163.0    6.0     1265567.0   \n",
            "27637           NaN               0.0      492.0    4.0      572618.0   \n",
            "27638           NaN               0.0      217.0   13.0      120292.0   \n",
            "27639           NaN               2.0    19522.0  819.0     3299302.0   \n",
            "27640           NaN               0.0      757.0    9.0      501428.0   \n",
            "\n",
            "       daily_tested  daily_positive  \n",
            "0               NaN             NaN  \n",
            "1               NaN             1.0  \n",
            "2               NaN             3.0  \n",
            "3               NaN             NaN  \n",
            "4               NaN             NaN  \n",
            "...             ...             ...  \n",
            "27636           0.0             NaN  \n",
            "27637           0.0             NaN  \n",
            "27638           0.0             NaN  \n",
            "27639           0.0             NaN  \n",
            "27640           0.0             NaN  \n",
            "\n",
            "[27641 rows x 12 columns]\n"
          ]
        }
      ]
    }
  ]
}