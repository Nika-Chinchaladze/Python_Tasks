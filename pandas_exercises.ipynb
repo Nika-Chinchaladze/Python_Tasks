{
  "nbformat": 4,
  "nbformat_minor": 0,
  "metadata": {
    "colab": {
      "name": "pandas exercises.ipynb",
      "provenance": []
    },
    "kernelspec": {
      "name": "python3",
      "display_name": "Python 3"
    },
    "language_info": {
      "name": "python"
    }
  },
  "cells": [
    {
      "cell_type": "code",
      "execution_count": null,
      "metadata": {
        "id": "prv4PadZ9q-1"
      },
      "outputs": [],
      "source": [
        "import pandas as pd\n",
        "import numpy as np\n",
        "from random import randint"
      ]
    },
    {
      "cell_type": "code",
      "source": [
        "pd_series = pd.Series(data = ['nika', 'chinchaladze', 25, 'Programmer'], index = ['first_name', 'surname', 'age', 'job'])\n",
        "print(pd_series)\n",
        "print(\"--------------------------\")\n",
        "print(pd_series['first_name'])\n",
        "print(\"--------------------------\")\n",
        "print(pd_series['surname'])\n",
        "print(\"--------------------------\")\n",
        "print(pd_series['age'])\n",
        "print(\"--------------------------\")\n",
        "print(pd_series['job'])\n",
        "print(\"--------------------------\")"
      ],
      "metadata": {
        "colab": {
          "base_uri": "https://localhost:8080/"
        },
        "id": "K6iZbGtjFHpO",
        "outputId": "bf6a3f30-8e5b-422e-f141-db0d992b43c1"
      },
      "execution_count": null,
      "outputs": [
        {
          "output_type": "stream",
          "name": "stdout",
          "text": [
            "first_name            nika\n",
            "surname       chinchaladze\n",
            "age                     25\n",
            "job             Programmer\n",
            "dtype: object\n",
            "--------------------------\n",
            "nika\n",
            "--------------------------\n",
            "chinchaladze\n",
            "--------------------------\n",
            "25\n",
            "--------------------------\n",
            "Programmer\n",
            "--------------------------\n"
          ]
        }
      ]
    },
    {
      "cell_type": "markdown",
      "source": [
        "**create Series from numpy array**"
      ],
      "metadata": {
        "id": "nRAgTYJkHDTk"
      }
    },
    {
      "cell_type": "code",
      "source": [
        "one_array = np.random.randint(20, size = (10))\n",
        "one_series = pd.Series(one_array)\n",
        "print(one_series)"
      ],
      "metadata": {
        "colab": {
          "base_uri": "https://localhost:8080/"
        },
        "id": "yn82O6fqF7gP",
        "outputId": "55dc6344-4398-4df9-84f3-0eafd2c3b0a8"
      },
      "execution_count": null,
      "outputs": [
        {
          "output_type": "stream",
          "name": "stdout",
          "text": [
            "0    16\n",
            "1    12\n",
            "2     1\n",
            "3    18\n",
            "4    13\n",
            "5     7\n",
            "6    17\n",
            "7     1\n",
            "8    17\n",
            "9     6\n",
            "dtype: int64\n"
          ]
        }
      ]
    },
    {
      "cell_type": "markdown",
      "source": [
        "**create Series from list**"
      ],
      "metadata": {
        "id": "aXbcZgTrHIxg"
      }
    },
    {
      "cell_type": "code",
      "source": [
        "first_list = [i for i in range(randint(8,10))]\n",
        "first_Series = pd.Series(first_list)\n",
        "print(first_Series)"
      ],
      "metadata": {
        "colab": {
          "base_uri": "https://localhost:8080/"
        },
        "id": "ZjuFCPwqHM7C",
        "outputId": "4c925ef6-5490-4c8e-da4f-5b9bba40aa43"
      },
      "execution_count": null,
      "outputs": [
        {
          "output_type": "stream",
          "name": "stdout",
          "text": [
            "0    0\n",
            "1    1\n",
            "2    2\n",
            "3    3\n",
            "4    4\n",
            "5    5\n",
            "6    6\n",
            "7    7\n",
            "dtype: int64\n"
          ]
        }
      ]
    },
    {
      "cell_type": "markdown",
      "source": [
        "**create Series from dictionary**"
      ],
      "metadata": {
        "id": "DA46KekQIJ-T"
      }
    },
    {
      "cell_type": "code",
      "source": [
        "f_dict = {'name':'nika', 'surname':'chinchaladze', 'age':25, 'job':'Data Analyst'}\n",
        "f_Series = pd.Series(f_dict)\n",
        "print(f_Series)\n",
        "print(\"-----------------------\")\n",
        "print(f_Series['name'])\n",
        "print(\"-----------------------\")\n",
        "print(f_Series['surname'])\n",
        "print(\"-----------------------\")\n",
        "print(f_Series['age'])\n",
        "print(\"-----------------------\")\n",
        "print(f_Series['job'])\n",
        "print(\"-----------------------\")"
      ],
      "metadata": {
        "colab": {
          "base_uri": "https://localhost:8080/"
        },
        "id": "SxZPr2UZINSd",
        "outputId": "ae038ed7-c735-4134-903b-ad794bf8320f"
      },
      "execution_count": null,
      "outputs": [
        {
          "output_type": "stream",
          "name": "stdout",
          "text": [
            "name               nika\n",
            "surname    chinchaladze\n",
            "age                  25\n",
            "job        Data Analyst\n",
            "dtype: object\n",
            "-----------------------\n",
            "nika\n",
            "-----------------------\n",
            "chinchaladze\n",
            "-----------------------\n",
            "25\n",
            "-----------------------\n",
            "Data Analyst\n",
            "-----------------------\n"
          ]
        }
      ]
    },
    {
      "cell_type": "markdown",
      "source": [
        "**create Series from scalar values**"
      ],
      "metadata": {
        "id": "k9L1H6fEKEPY"
      }
    },
    {
      "cell_type": "code",
      "source": [
        "scalar_value = 15\n",
        "sc_Series = pd.Series(scalar_value, index = [0,1,2,3,4])\n",
        "print(sc_Series)"
      ],
      "metadata": {
        "colab": {
          "base_uri": "https://localhost:8080/"
        },
        "id": "A-LkRlUaKJq_",
        "outputId": "2fa62f07-639f-4094-cafc-b80d39fa7084"
      },
      "execution_count": null,
      "outputs": [
        {
          "output_type": "stream",
          "name": "stdout",
          "text": [
            "0    15\n",
            "1    15\n",
            "2    15\n",
            "3    15\n",
            "4    15\n",
            "dtype: int64\n"
          ]
        }
      ]
    },
    {
      "cell_type": "markdown",
      "source": [
        "**convert Series into numpy array**"
      ],
      "metadata": {
        "id": "6WBlyJSdKtwK"
      }
    },
    {
      "cell_type": "code",
      "source": [
        "arr_1 = sc_Series.to_numpy()\n",
        "arr_2 = f_Series.to_numpy()\n",
        "arr_3 = first_Series.to_numpy()\n",
        "arr_4 = one_series.to_numpy()\n",
        "arr_5 = pd_series.to_numpy()\n",
        "print(arr_1)\n",
        "print(arr_2)\n",
        "print(arr_3)\n",
        "print(arr_4)\n",
        "print(arr_5)"
      ],
      "metadata": {
        "colab": {
          "base_uri": "https://localhost:8080/"
        },
        "id": "Ax6xXWBdKxvJ",
        "outputId": "ea6b674a-5339-4767-a164-1accad92198f"
      },
      "execution_count": null,
      "outputs": [
        {
          "output_type": "stream",
          "name": "stdout",
          "text": [
            "[15 15 15 15 15]\n",
            "['nika' 'chinchaladze' 25 'Data Analyst']\n",
            "[0 1 2 3 4 5 6 7]\n",
            "[16 12  1 18 13  7 17  1 17  6]\n",
            "['nika' 'chinchaladze' 25 'Programmer']\n"
          ]
        }
      ]
    },
    {
      "cell_type": "markdown",
      "source": [
        "**use get function with Series**"
      ],
      "metadata": {
        "id": "c-129TFoR4Hz"
      }
    },
    {
      "cell_type": "code",
      "source": [
        "print(sc_Series.get(2))\n",
        "print(f_Series.get('name'))\n",
        "print(first_Series.get(5))\n",
        "print(one_series.get(3))\n",
        "print(pd_series.get('age'))"
      ],
      "metadata": {
        "colab": {
          "base_uri": "https://localhost:8080/"
        },
        "id": "-9w7YtoVR9gk",
        "outputId": "3b6fa7bd-2c98-4efc-c29f-469da4f2a960"
      },
      "execution_count": null,
      "outputs": [
        {
          "output_type": "stream",
          "name": "stdout",
          "text": [
            "15\n",
            "nika\n",
            "5\n",
            "18\n",
            "25\n"
          ]
        }
      ]
    },
    {
      "cell_type": "markdown",
      "source": [
        "**Series attributes**"
      ],
      "metadata": {
        "id": "IR3FZxnXStHV"
      }
    },
    {
      "cell_type": "code",
      "source": [
        "a = np.random.randint(10, size = (5))\n",
        "a_series = pd.Series(a, name = 'Based on numpy', index = ['first', 'second', 'third', 'fourth', 'fifth'])\n",
        "print(a_series)\n",
        "print(\"-----------------------\")\n",
        "print(\"shape:\", a_series.shape)\n",
        "print(\"-----------------------\")\n",
        "print(\"dimension:\", a_series.ndim)\n",
        "print(\"-----------------------\")\n",
        "print(\"size:\", a_series.size)\n",
        "print(\"-----------------------\")\n",
        "print(\"values:\", a_series.values)\n",
        "print(\"-----------------------\")\n",
        "print(\"index:\", a_series.index)\n",
        "print(\"-----------------------\")\n",
        "print(\"name:\", a_series.name)\n",
        "print(\"-----------------------\")"
      ],
      "metadata": {
        "colab": {
          "base_uri": "https://localhost:8080/"
        },
        "id": "H2x87K-kSwPV",
        "outputId": "1e9b9a57-7245-4a16-c7a6-ca291a7cf1ca"
      },
      "execution_count": null,
      "outputs": [
        {
          "output_type": "stream",
          "name": "stdout",
          "text": [
            "first     3\n",
            "second    5\n",
            "third     8\n",
            "fourth    4\n",
            "fifth     0\n",
            "Name: Based on numpy, dtype: int64\n",
            "-----------------------\n",
            "shape: (5,)\n",
            "-----------------------\n",
            "dimension: 1\n",
            "-----------------------\n",
            "size: 5\n",
            "-----------------------\n",
            "values: [3 5 8 4 0]\n",
            "-----------------------\n",
            "index: Index(['first', 'second', 'third', 'fourth', 'fifth'], dtype='object')\n",
            "-----------------------\n",
            "name: Based on numpy\n",
            "-----------------------\n"
          ]
        }
      ]
    },
    {
      "cell_type": "markdown",
      "source": [
        "**data manipulation on Series**"
      ],
      "metadata": {
        "id": "LapwaNqBaCZ5"
      }
    },
    {
      "cell_type": "code",
      "source": [
        "dictionary = {'name':'nika', 'surname':'chinchaladze', 'nickname':'chincho', 'age':25}\n",
        "new_series = pd.Series(dictionary)\n",
        "# print out values with key and index:\n",
        "print(new_series['name'])\n",
        "print(new_series[0])\n",
        "print(\"------------------------\")\n",
        "# change value inside Series:\n",
        "new_series['name'] = 'leri'\n",
        "new_series[1] = 'chixladze'\n",
        "print(new_series['name'])\n",
        "print(new_series[1])\n",
        "print(\"------------------------\")\n",
        "# print more than one values from Series:\n",
        "print(new_series[ [2,3] ])\n",
        "print(\"------------------------\")\n",
        "print(new_series.iloc[2:3])\n",
        "print(\"------------------------\")\n",
        "print(new_series.loc['surname':'nickname'])"
      ],
      "metadata": {
        "colab": {
          "base_uri": "https://localhost:8080/"
        },
        "id": "7Ltvv23uaI_a",
        "outputId": "766adfe4-e772-4018-c5a4-7430322791fb"
      },
      "execution_count": null,
      "outputs": [
        {
          "output_type": "stream",
          "name": "stdout",
          "text": [
            "nika\n",
            "nika\n",
            "------------------------\n",
            "leri\n",
            "chixladze\n",
            "------------------------\n",
            "nickname    chincho\n",
            "age              25\n",
            "dtype: object\n",
            "------------------------\n",
            "nickname    chincho\n",
            "dtype: object\n",
            "------------------------\n",
            "surname     chixladze\n",
            "nickname      chincho\n",
            "dtype: object\n"
          ]
        }
      ]
    },
    {
      "cell_type": "markdown",
      "source": [
        "**drop some elements from Series**"
      ],
      "metadata": {
        "id": "dk9VfajrcoMX"
      }
    },
    {
      "cell_type": "code",
      "source": [
        "print(new_series)\n",
        "print(\"------------------------------------------\")\n",
        "new_series.drop(labels = 'name', inplace = True)\n",
        "new_series.drop(labels = 'nickname', inplace = True)\n",
        "print(new_series)"
      ],
      "metadata": {
        "colab": {
          "base_uri": "https://localhost:8080/"
        },
        "id": "5YdAlBJoctr2",
        "outputId": "b20b3ecf-fe77-4881-f39f-b3311801a428"
      },
      "execution_count": null,
      "outputs": [
        {
          "output_type": "stream",
          "name": "stdout",
          "text": [
            "name             leri\n",
            "surname     chixladze\n",
            "nickname      chincho\n",
            "age                25\n",
            "dtype: object\n",
            "------------------------------------------\n",
            "surname    chixladze\n",
            "age               25\n",
            "dtype: object\n"
          ]
        }
      ]
    },
    {
      "cell_type": "markdown",
      "source": [
        "**mathematical operations on Series**"
      ],
      "metadata": {
        "id": "SiW1g3xvdSxO"
      }
    },
    {
      "cell_type": "code",
      "source": [
        "first = np.random.randint(10, size = (5))\n",
        "second = np.random.randint(20, size = (5))\n",
        "ser_one = pd.Series(first)\n",
        "ser_two = pd.Series(second)\n",
        "print(ser_one)\n",
        "print(ser_two)\n",
        "print(\"----------------------------\")\n",
        "# add two Series:\n",
        "print(ser_one.add(ser_two))\n",
        "print(\"----------------------------\")\n",
        "# subtract two Series:\n",
        "print(ser_two.sub(ser_one))\n",
        "print(\"----------------------------\")\n",
        "# multiply Series:\n",
        "print(ser_two.mul(ser_one))\n",
        "print(\"----------------------------\")\n",
        "# divide Series:\n",
        "print(ser_two.div(ser_one))"
      ],
      "metadata": {
        "colab": {
          "base_uri": "https://localhost:8080/"
        },
        "id": "f6bFoyMDdXgu",
        "outputId": "d555571c-b472-4075-9aa4-c77c38b8ccdb"
      },
      "execution_count": null,
      "outputs": [
        {
          "output_type": "stream",
          "name": "stdout",
          "text": [
            "0    8\n",
            "1    8\n",
            "2    6\n",
            "3    4\n",
            "4    6\n",
            "dtype: int64\n",
            "0     2\n",
            "1     8\n",
            "2    19\n",
            "3     6\n",
            "4    18\n",
            "dtype: int64\n",
            "----------------------------\n",
            "0    10\n",
            "1    16\n",
            "2    25\n",
            "3    10\n",
            "4    24\n",
            "dtype: int64\n",
            "----------------------------\n",
            "0    -6\n",
            "1     0\n",
            "2    13\n",
            "3     2\n",
            "4    12\n",
            "dtype: int64\n",
            "----------------------------\n",
            "0     16\n",
            "1     64\n",
            "2    114\n",
            "3     24\n",
            "4    108\n",
            "dtype: int64\n",
            "----------------------------\n",
            "0    0.250000\n",
            "1    1.000000\n",
            "2    3.166667\n",
            "3    1.500000\n",
            "4    3.000000\n",
            "dtype: float64\n"
          ]
        }
      ]
    },
    {
      "cell_type": "markdown",
      "source": [
        "**create DataFrame from dictionary**"
      ],
      "metadata": {
        "id": "ixJv3xZEIdvW"
      }
    },
    {
      "cell_type": "code",
      "source": [
        "dict_1 = {'names':['nika', 'leri', 'toke'],\n",
        "          'surname':['chinchaladze', 'choxladze', 'quridze'],\n",
        "          'age':[25, 29, 30],\n",
        "          'job':['unemployed', 'racer', 'soldier']}\n",
        "df = pd.DataFrame(dict_1)\n",
        "print(df)\n",
        "print(\"----------------------------\")\n",
        "print(df['names'])\n",
        "print(\"----------------------------\")\n",
        "print(df['surname'])\n",
        "print(\"----------------------------\")\n",
        "print(df['age'])\n"
      ],
      "metadata": {
        "colab": {
          "base_uri": "https://localhost:8080/"
        },
        "id": "KNzFc9BiIh3W",
        "outputId": "3e28fa35-89f1-48d0-e288-5ee04275fbd9"
      },
      "execution_count": null,
      "outputs": [
        {
          "output_type": "stream",
          "name": "stdout",
          "text": [
            "  names       surname  age         job\n",
            "0  nika  chinchaladze   25  unemployed\n",
            "1  leri     choxladze   29       racer\n",
            "2  toke       quridze   30     soldier\n",
            "----------------------------\n",
            "0    nika\n",
            "1    leri\n",
            "2    toke\n",
            "Name: names, dtype: object\n",
            "----------------------------\n",
            "0    chinchaladze\n",
            "1       choxladze\n",
            "2         quridze\n",
            "Name: surname, dtype: object\n",
            "----------------------------\n",
            "0    25\n",
            "1    29\n",
            "2    30\n",
            "Name: age, dtype: int64\n"
          ]
        }
      ]
    },
    {
      "cell_type": "markdown",
      "source": [
        "**create DataFrame from Series**"
      ],
      "metadata": {
        "id": "-uKHHxKnKtDt"
      }
    },
    {
      "cell_type": "code",
      "source": [
        "ser_1 = pd.Series([1,2,3,4,5])\n",
        "df_s = pd.DataFrame(ser_1, columns = ['numbers'])\n",
        "print(df_s)"
      ],
      "metadata": {
        "colab": {
          "base_uri": "https://localhost:8080/"
        },
        "id": "iJjpRwJmUgCw",
        "outputId": "f9565a18-b856-4222-8503-07f42fef7fc8"
      },
      "execution_count": null,
      "outputs": [
        {
          "output_type": "stream",
          "name": "stdout",
          "text": [
            "   numbers\n",
            "0        1\n",
            "1        2\n",
            "2        3\n",
            "3        4\n",
            "4        5\n"
          ]
        }
      ]
    },
    {
      "cell_type": "code",
      "source": [
        "dict_2 = {'names': pd.Series(['nika', 'leri', 'toke']),\n",
        "          'surname': pd.Series(['chinchaladze', 'choxladze', 'quridze']),\n",
        "          'age': pd.Series([25, 29, 30]),\n",
        "          'job': pd.Series(['unemployed', 'racer', 'soldier'])}\n",
        "df_2 = pd.DataFrame(dict_2)\n",
        "print(df_2)"
      ],
      "metadata": {
        "colab": {
          "base_uri": "https://localhost:8080/"
        },
        "id": "I7rRGBhzKw8L",
        "outputId": "74e519ca-1510-4d75-a53a-baf623ca71b8"
      },
      "execution_count": null,
      "outputs": [
        {
          "output_type": "stream",
          "name": "stdout",
          "text": [
            "  names       surname  age         job\n",
            "0  nika  chinchaladze   25  unemployed\n",
            "1  leri     choxladze   29       racer\n",
            "2  toke       quridze   30     soldier\n"
          ]
        }
      ]
    },
    {
      "cell_type": "markdown",
      "source": [
        "**create DataFrame from list**"
      ],
      "metadata": {
        "id": "uhl5Muy7QwI2"
      }
    },
    {
      "cell_type": "code",
      "source": [
        "list_1 = [1,2,3,4,5]\n",
        "df_3 = pd.DataFrame(list_1, columns = ['numbers'])\n",
        "print(df_3)"
      ],
      "metadata": {
        "colab": {
          "base_uri": "https://localhost:8080/"
        },
        "id": "sEoYtkO7Q1RW",
        "outputId": "5510bfaa-ad54-44bf-dfc6-3546e670ce28"
      },
      "execution_count": null,
      "outputs": [
        {
          "output_type": "stream",
          "name": "stdout",
          "text": [
            "   numbers\n",
            "0        1\n",
            "1        2\n",
            "2        3\n",
            "3        4\n",
            "4        5\n"
          ]
        }
      ]
    },
    {
      "cell_type": "markdown",
      "source": [
        "**create dataframe from list of dictionaries**"
      ],
      "metadata": {
        "id": "9OT2eSe-Syxs"
      }
    },
    {
      "cell_type": "code",
      "source": [
        "list_2 = [{'name':'nika', 'surname':'chinchaladze'}, {'age':25, 'job':'programmer'}]\n",
        "df_4 = pd.DataFrame(list_2)\n",
        "print(df_4)"
      ],
      "metadata": {
        "colab": {
          "base_uri": "https://localhost:8080/"
        },
        "id": "JaUHVLH1S8s4",
        "outputId": "92657e76-4849-4900-c469-a08b7f9fbcae"
      },
      "execution_count": null,
      "outputs": [
        {
          "output_type": "stream",
          "name": "stdout",
          "text": [
            "   name       surname   age         job\n",
            "0  nika  chinchaladze   NaN         NaN\n",
            "1   NaN           NaN  25.0  programmer\n"
          ]
        }
      ]
    },
    {
      "cell_type": "markdown",
      "source": [
        "**create dataframe from 2-D numpy arrays**"
      ],
      "metadata": {
        "id": "eR_CsNBwTevr"
      }
    },
    {
      "cell_type": "code",
      "source": [
        "array_1 = np.ones((3,3))\n",
        "df_5 = pd.DataFrame(array_1, columns = ['first', 'second', 'third'])\n",
        "print(df_5)"
      ],
      "metadata": {
        "colab": {
          "base_uri": "https://localhost:8080/"
        },
        "id": "RrKahEg2TjjR",
        "outputId": "b4a809de-7c6c-4236-db1d-5a86b2c9da63"
      },
      "execution_count": null,
      "outputs": [
        {
          "output_type": "stream",
          "name": "stdout",
          "text": [
            "   first  second  third\n",
            "0    1.0     1.0    1.0\n",
            "1    1.0     1.0    1.0\n",
            "2    1.0     1.0    1.0\n"
          ]
        }
      ]
    },
    {
      "cell_type": "markdown",
      "source": [
        "**create dataframe from another dataframe**"
      ],
      "metadata": {
        "id": "Ndt6ecV1VCgb"
      }
    },
    {
      "cell_type": "code",
      "source": [
        "array_2 = 5 * np.ones((4,4))\n",
        "df_6 = pd.DataFrame(array_2, columns = ['a', 'b', 'c', 'd'])\n",
        "df_7 = pd.DataFrame(df_6)\n",
        "print(df_7)"
      ],
      "metadata": {
        "colab": {
          "base_uri": "https://localhost:8080/"
        },
        "id": "L4do9uCfVIWq",
        "outputId": "13414d1f-48b6-4a55-be8c-a22af1e1c89a"
      },
      "execution_count": null,
      "outputs": [
        {
          "output_type": "stream",
          "name": "stdout",
          "text": [
            "     a    b    c    d\n",
            "0  5.0  5.0  5.0  5.0\n",
            "1  5.0  5.0  5.0  5.0\n",
            "2  5.0  5.0  5.0  5.0\n",
            "3  5.0  5.0  5.0  5.0\n"
          ]
        }
      ]
    },
    {
      "cell_type": "markdown",
      "source": [
        "**read csv files**"
      ],
      "metadata": {
        "id": "eK0oeUTxdnzf"
      }
    },
    {
      "cell_type": "code",
      "source": [
        "from google.colab import drive\n",
        "drive.mount('/content/drive')"
      ],
      "metadata": {
        "colab": {
          "base_uri": "https://localhost:8080/"
        },
        "id": "bwMHK4SmekKG",
        "outputId": "cac8af5f-dd69-4706-fce9-5f919e3a4023"
      },
      "execution_count": null,
      "outputs": [
        {
          "output_type": "stream",
          "name": "stdout",
          "text": [
            "Mounted at /content/drive\n"
          ]
        }
      ]
    },
    {
      "cell_type": "code",
      "source": [
        "df_file = pd.read_csv(\"/content/drive/MyDrive/tested_worldwide.csv\")\n",
        "print(df_file.head())\n",
        "print(\"-------------------------\")\n",
        "print(\"find south_korea: \", df_file.iloc[3,1])                 # for index\n",
        "print(\"-------------------------\")\n",
        "print(\"find south korea: \", df_file.loc[3, 'Country_Region'])  # for column and row names"
      ],
      "metadata": {
        "colab": {
          "base_uri": "https://localhost:8080/"
        },
        "id": "BQ47x-OedqRy",
        "outputId": "075ac7e2-62f6-4c63-a7ba-016f34d559bc"
      },
      "execution_count": null,
      "outputs": [
        {
          "output_type": "stream",
          "name": "stdout",
          "text": [
            "         Date Country_Region Province_State  positive  active  hospitalized  \\\n",
            "0  2020-01-16        Iceland     All States       3.0     NaN           NaN   \n",
            "1  2020-01-17        Iceland     All States       4.0     NaN           NaN   \n",
            "2  2020-01-18        Iceland     All States       7.0     NaN           NaN   \n",
            "3  2020-01-20    South Korea     All States       1.0     NaN           NaN   \n",
            "4  2020-01-22  United States     All States       0.0     NaN           NaN   \n",
            "\n",
            "   hospitalizedCurr  recovered  death  total_tested  daily_tested  \\\n",
            "0               NaN        NaN    NaN           NaN           NaN   \n",
            "1               NaN        NaN    NaN           NaN           NaN   \n",
            "2               NaN        NaN    NaN           NaN           NaN   \n",
            "3               NaN        NaN    NaN           4.0           NaN   \n",
            "4               NaN        NaN    0.0           0.0           NaN   \n",
            "\n",
            "   daily_positive  \n",
            "0             NaN  \n",
            "1             1.0  \n",
            "2             3.0  \n",
            "3             NaN  \n",
            "4             NaN  \n",
            "-------------------------\n",
            "find south_korea:  South Korea\n",
            "-------------------------\n",
            "find south korea:  South Korea\n"
          ]
        }
      ]
    },
    {
      "cell_type": "markdown",
      "source": [
        "**add one more row**"
      ],
      "metadata": {
        "id": "e4l6LwxRhwVo"
      }
    },
    {
      "cell_type": "code",
      "source": [
        "extra_1 = pd.Series(['Peacky Blinders'], name = 'tommy shelby')\n",
        "extra_2 = pd.Series(['UFC'])\n",
        "df_file = df_file.append(extra_1)\n",
        "df_file = df_file.append(extra_2, ignore_index = True)\n",
        "print(df_file.tail())"
      ],
      "metadata": {
        "colab": {
          "base_uri": "https://localhost:8080/"
        },
        "id": "YkM1qjCQhu8z",
        "outputId": "2839074f-755f-4d6d-f80c-8784d9b556bd"
      },
      "execution_count": null,
      "outputs": [
        {
          "output_type": "stream",
          "name": "stdout",
          "text": [
            "             Date Country_Region     Province_State  positive  active  \\\n",
            "27638  2020-11-09      Australia           Tasmania       NaN     0.0   \n",
            "27639  2020-11-09      Australia           Victoria       NaN     4.0   \n",
            "27640  2020-11-09      Australia  Western Australia       NaN    10.0   \n",
            "27641         NaN            NaN                NaN       NaN     NaN   \n",
            "27642         NaN            NaN                NaN       NaN     NaN   \n",
            "\n",
            "       hospitalized  hospitalizedCurr  recovered  death  total_tested  \\\n",
            "27638           NaN               0.0      217.0   13.0      120292.0   \n",
            "27639           NaN               2.0    19522.0  819.0     3299302.0   \n",
            "27640           NaN               0.0      757.0    9.0      501428.0   \n",
            "27641           NaN               NaN        NaN    NaN           NaN   \n",
            "27642           NaN               NaN        NaN    NaN           NaN   \n",
            "\n",
            "       daily_tested  daily_positive                0  \n",
            "27638           0.0             NaN              NaN  \n",
            "27639           0.0             NaN              NaN  \n",
            "27640           0.0             NaN              NaN  \n",
            "27641           NaN             NaN  Peacky Blinders  \n",
            "27642           NaN             NaN              UFC  \n"
          ]
        }
      ]
    },
    {
      "cell_type": "markdown",
      "source": [
        "**insert some extra columns**"
      ],
      "metadata": {
        "id": "KrMiDBQ7jIFP"
      }
    },
    {
      "cell_type": "code",
      "source": [
        "df_file.insert(loc = 0, column = 'New_Column', value = 'chincho')\n",
        "print(df_file.head())"
      ],
      "metadata": {
        "colab": {
          "base_uri": "https://localhost:8080/"
        },
        "id": "RoOnLGpWjLcA",
        "outputId": "f6f89644-2938-4a0a-e288-dd8f0b96bb4f"
      },
      "execution_count": null,
      "outputs": [
        {
          "output_type": "stream",
          "name": "stdout",
          "text": [
            "  New_Column        Date Country_Region Province_State  positive  active  \\\n",
            "0    chincho  2020-01-16        Iceland     All States       3.0     NaN   \n",
            "1    chincho  2020-01-17        Iceland     All States       4.0     NaN   \n",
            "2    chincho  2020-01-18        Iceland     All States       7.0     NaN   \n",
            "3    chincho  2020-01-20    South Korea     All States       1.0     NaN   \n",
            "4    chincho  2020-01-22  United States     All States       0.0     NaN   \n",
            "\n",
            "   hospitalized  hospitalizedCurr  recovered  death  total_tested  \\\n",
            "0           NaN               NaN        NaN    NaN           NaN   \n",
            "1           NaN               NaN        NaN    NaN           NaN   \n",
            "2           NaN               NaN        NaN    NaN           NaN   \n",
            "3           NaN               NaN        NaN    NaN           4.0   \n",
            "4           NaN               NaN        NaN    0.0           0.0   \n",
            "\n",
            "   daily_tested  daily_positive    0  \n",
            "0           NaN             NaN  NaN  \n",
            "1           NaN             1.0  NaN  \n",
            "2           NaN             3.0  NaN  \n",
            "3           NaN             NaN  NaN  \n",
            "4           NaN             NaN  NaN  \n"
          ]
        }
      ]
    },
    {
      "cell_type": "markdown",
      "source": [
        "**drop some records from dataframe**"
      ],
      "metadata": {
        "id": "SehTu1m_WT7G"
      }
    },
    {
      "cell_type": "code",
      "source": [
        "df_file = df_file.drop(labels = 3)\n",
        "print(df_file.head())"
      ],
      "metadata": {
        "colab": {
          "base_uri": "https://localhost:8080/"
        },
        "id": "mhZpZHeSWY_J",
        "outputId": "71538bb8-aff3-4079-8948-a14756f33060"
      },
      "execution_count": null,
      "outputs": [
        {
          "output_type": "stream",
          "name": "stdout",
          "text": [
            "  New_Column        Date Country_Region Province_State  positive  active  \\\n",
            "0    chincho  2020-01-16        Iceland     All States       3.0     NaN   \n",
            "1    chincho  2020-01-17        Iceland     All States       4.0     NaN   \n",
            "2    chincho  2020-01-18        Iceland     All States       7.0     NaN   \n",
            "4    chincho  2020-01-22  United States     All States       0.0     NaN   \n",
            "5    chincho  2020-01-22  United States  Massachusetts       0.0     NaN   \n",
            "\n",
            "   hospitalized  hospitalizedCurr  recovered  death  total_tested  \\\n",
            "0           NaN               NaN        NaN    NaN           NaN   \n",
            "1           NaN               NaN        NaN    NaN           NaN   \n",
            "2           NaN               NaN        NaN    NaN           NaN   \n",
            "4           NaN               NaN        NaN    0.0           0.0   \n",
            "5           NaN               NaN        NaN    0.0           0.0   \n",
            "\n",
            "   daily_tested  daily_positive    0  \n",
            "0           NaN             NaN  NaN  \n",
            "1           NaN             1.0  NaN  \n",
            "2           NaN             3.0  NaN  \n",
            "4           NaN             NaN  NaN  \n",
            "5           NaN             NaN  NaN  \n"
          ]
        }
      ]
    },
    {
      "cell_type": "markdown",
      "source": [
        "**rename columns of dataframe**"
      ],
      "metadata": {
        "id": "xZuEFg16W3wz"
      }
    },
    {
      "cell_type": "code",
      "source": [
        "df_file = df_file.rename(columns = {\"New_Column\":\"By Order Of the Peacky Blinders\"})\n",
        "print(df_file)"
      ],
      "metadata": {
        "colab": {
          "base_uri": "https://localhost:8080/"
        },
        "id": "eWlnIGDIW7-5",
        "outputId": "33809560-2ba5-465b-a33d-35e68c8143b8"
      },
      "execution_count": null,
      "outputs": [
        {
          "output_type": "stream",
          "name": "stdout",
          "text": [
            "      By Order Of the Peacky Blinders        Date Country_Region  \\\n",
            "0                             chincho  2020-01-16        Iceland   \n",
            "1                             chincho  2020-01-17        Iceland   \n",
            "2                             chincho  2020-01-18        Iceland   \n",
            "4                             chincho  2020-01-22  United States   \n",
            "5                             chincho  2020-01-22  United States   \n",
            "...                               ...         ...            ...   \n",
            "27638                         chincho  2020-11-09      Australia   \n",
            "27639                         chincho  2020-11-09      Australia   \n",
            "27640                         chincho  2020-11-09      Australia   \n",
            "27641                         chincho         NaN            NaN   \n",
            "27642                         chincho         NaN            NaN   \n",
            "\n",
            "          Province_State  positive  active  hospitalized  hospitalizedCurr  \\\n",
            "0             All States       3.0     NaN           NaN               NaN   \n",
            "1             All States       4.0     NaN           NaN               NaN   \n",
            "2             All States       7.0     NaN           NaN               NaN   \n",
            "4             All States       0.0     NaN           NaN               NaN   \n",
            "5          Massachusetts       0.0     NaN           NaN               NaN   \n",
            "...                  ...       ...     ...           ...               ...   \n",
            "27638           Tasmania       NaN     0.0           NaN               0.0   \n",
            "27639           Victoria       NaN     4.0           NaN               2.0   \n",
            "27640  Western Australia       NaN    10.0           NaN               0.0   \n",
            "27641                NaN       NaN     NaN           NaN               NaN   \n",
            "27642                NaN       NaN     NaN           NaN               NaN   \n",
            "\n",
            "       recovered  death  total_tested  daily_tested  daily_positive  \\\n",
            "0            NaN    NaN           NaN           NaN             NaN   \n",
            "1            NaN    NaN           NaN           NaN             1.0   \n",
            "2            NaN    NaN           NaN           NaN             3.0   \n",
            "4            NaN    0.0           0.0           NaN             NaN   \n",
            "5            NaN    0.0           0.0           NaN             NaN   \n",
            "...          ...    ...           ...           ...             ...   \n",
            "27638      217.0   13.0      120292.0           0.0             NaN   \n",
            "27639    19522.0  819.0     3299302.0           0.0             NaN   \n",
            "27640      757.0    9.0      501428.0           0.0             NaN   \n",
            "27641        NaN    NaN           NaN           NaN             NaN   \n",
            "27642        NaN    NaN           NaN           NaN             NaN   \n",
            "\n",
            "                     0  \n",
            "0                  NaN  \n",
            "1                  NaN  \n",
            "2                  NaN  \n",
            "4                  NaN  \n",
            "5                  NaN  \n",
            "...                ...  \n",
            "27638              NaN  \n",
            "27639              NaN  \n",
            "27640              NaN  \n",
            "27641  Peacky Blinders  \n",
            "27642              UFC  \n",
            "\n",
            "[27642 rows x 14 columns]\n"
          ]
        }
      ]
    },
    {
      "cell_type": "markdown",
      "source": [
        "**rename index**"
      ],
      "metadata": {
        "id": "8PFTK9PkYNkP"
      }
    },
    {
      "cell_type": "code",
      "source": [
        "df_file = df_file.set_index(\"Date\")\n",
        "print(df_file)"
      ],
      "metadata": {
        "colab": {
          "base_uri": "https://localhost:8080/"
        },
        "id": "b4wSxVPZYQcZ",
        "outputId": "25f9e73f-0268-49b8-d57c-29e89ac1c10e"
      },
      "execution_count": null,
      "outputs": [
        {
          "output_type": "stream",
          "name": "stdout",
          "text": [
            "           By Order Of the Peacky Blinders Country_Region     Province_State  \\\n",
            "Date                                                                           \n",
            "2020-01-16                         chincho        Iceland         All States   \n",
            "2020-01-17                         chincho        Iceland         All States   \n",
            "2020-01-18                         chincho        Iceland         All States   \n",
            "2020-01-22                         chincho  United States         All States   \n",
            "2020-01-22                         chincho  United States      Massachusetts   \n",
            "...                                    ...            ...                ...   \n",
            "2020-11-09                         chincho      Australia           Tasmania   \n",
            "2020-11-09                         chincho      Australia           Victoria   \n",
            "2020-11-09                         chincho      Australia  Western Australia   \n",
            "NaN                                chincho            NaN                NaN   \n",
            "NaN                                chincho            NaN                NaN   \n",
            "\n",
            "            positive  active  hospitalized  hospitalizedCurr  recovered  \\\n",
            "Date                                                                      \n",
            "2020-01-16       3.0     NaN           NaN               NaN        NaN   \n",
            "2020-01-17       4.0     NaN           NaN               NaN        NaN   \n",
            "2020-01-18       7.0     NaN           NaN               NaN        NaN   \n",
            "2020-01-22       0.0     NaN           NaN               NaN        NaN   \n",
            "2020-01-22       0.0     NaN           NaN               NaN        NaN   \n",
            "...              ...     ...           ...               ...        ...   \n",
            "2020-11-09       NaN     0.0           NaN               0.0      217.0   \n",
            "2020-11-09       NaN     4.0           NaN               2.0    19522.0   \n",
            "2020-11-09       NaN    10.0           NaN               0.0      757.0   \n",
            "NaN              NaN     NaN           NaN               NaN        NaN   \n",
            "NaN              NaN     NaN           NaN               NaN        NaN   \n",
            "\n",
            "            death  total_tested  daily_tested  daily_positive                0  \n",
            "Date                                                                            \n",
            "2020-01-16    NaN           NaN           NaN             NaN              NaN  \n",
            "2020-01-17    NaN           NaN           NaN             1.0              NaN  \n",
            "2020-01-18    NaN           NaN           NaN             3.0              NaN  \n",
            "2020-01-22    0.0           0.0           NaN             NaN              NaN  \n",
            "2020-01-22    0.0           0.0           NaN             NaN              NaN  \n",
            "...           ...           ...           ...             ...              ...  \n",
            "2020-11-09   13.0      120292.0           0.0             NaN              NaN  \n",
            "2020-11-09  819.0     3299302.0           0.0             NaN              NaN  \n",
            "2020-11-09    9.0      501428.0           0.0             NaN              NaN  \n",
            "NaN           NaN           NaN           NaN             NaN  Peacky Blinders  \n",
            "NaN           NaN           NaN           NaN             NaN              UFC  \n",
            "\n",
            "[27642 rows x 13 columns]\n"
          ]
        }
      ]
    },
    {
      "cell_type": "markdown",
      "source": [
        "**Dealing with Missing Data**"
      ],
      "metadata": {
        "id": "u5YW1faHYxo2"
      }
    },
    {
      "cell_type": "markdown",
      "source": [
        "**1) isnull**"
      ],
      "metadata": {
        "id": "ailoAZzdZn1i"
      }
    },
    {
      "cell_type": "code",
      "source": [
        "print(df_file.isnull())"
      ],
      "metadata": {
        "colab": {
          "base_uri": "https://localhost:8080/"
        },
        "id": "wuAlEWzGY1mL",
        "outputId": "ddfb7a44-0dac-4f0d-c756-8350b92d85bb"
      },
      "execution_count": null,
      "outputs": [
        {
          "output_type": "stream",
          "name": "stdout",
          "text": [
            "            By Order Of the Peacky Blinders  Country_Region  Province_State  \\\n",
            "Date                                                                          \n",
            "2020-01-16                            False           False           False   \n",
            "2020-01-17                            False           False           False   \n",
            "2020-01-18                            False           False           False   \n",
            "2020-01-22                            False           False           False   \n",
            "2020-01-22                            False           False           False   \n",
            "...                                     ...             ...             ...   \n",
            "2020-11-09                            False           False           False   \n",
            "2020-11-09                            False           False           False   \n",
            "2020-11-09                            False           False           False   \n",
            "NaN                                   False            True            True   \n",
            "NaN                                   False            True            True   \n",
            "\n",
            "            positive  active  hospitalized  hospitalizedCurr  recovered  \\\n",
            "Date                                                                      \n",
            "2020-01-16     False    True          True              True       True   \n",
            "2020-01-17     False    True          True              True       True   \n",
            "2020-01-18     False    True          True              True       True   \n",
            "2020-01-22     False    True          True              True       True   \n",
            "2020-01-22     False    True          True              True       True   \n",
            "...              ...     ...           ...               ...        ...   \n",
            "2020-11-09      True   False          True             False      False   \n",
            "2020-11-09      True   False          True             False      False   \n",
            "2020-11-09      True   False          True             False      False   \n",
            "NaN             True    True          True              True       True   \n",
            "NaN             True    True          True              True       True   \n",
            "\n",
            "            death  total_tested  daily_tested  daily_positive      0  \n",
            "Date                                                                  \n",
            "2020-01-16   True          True          True            True   True  \n",
            "2020-01-17   True          True          True           False   True  \n",
            "2020-01-18   True          True          True           False   True  \n",
            "2020-01-22  False         False          True            True   True  \n",
            "2020-01-22  False         False          True            True   True  \n",
            "...           ...           ...           ...             ...    ...  \n",
            "2020-11-09  False         False         False            True   True  \n",
            "2020-11-09  False         False         False            True   True  \n",
            "2020-11-09  False         False         False            True   True  \n",
            "NaN          True          True          True            True  False  \n",
            "NaN          True          True          True            True  False  \n",
            "\n",
            "[27642 rows x 13 columns]\n"
          ]
        }
      ]
    },
    {
      "cell_type": "markdown",
      "source": [
        "**2) dropna**"
      ],
      "metadata": {
        "id": "LMKlHQb2ZzkU"
      }
    },
    {
      "cell_type": "code",
      "source": [
        "print(df_file.dropna())\n",
        "print(\"After deleting NULLs: \", df_file.dropna().shape)"
      ],
      "metadata": {
        "colab": {
          "base_uri": "https://localhost:8080/"
        },
        "id": "BgDcsRTKZ2gW",
        "outputId": "e329839f-11e6-44a1-f09d-720cd96984dd"
      },
      "execution_count": null,
      "outputs": [
        {
          "output_type": "stream",
          "name": "stdout",
          "text": [
            "Empty DataFrame\n",
            "Columns: [By Order Of the Peacky Blinders, Country_Region, Province_State, positive, active, hospitalized, hospitalizedCurr, recovered, death, total_tested, daily_tested, daily_positive, 0]\n",
            "Index: []\n",
            "After deleting NULLs:  (0, 13)\n"
          ]
        }
      ]
    },
    {
      "cell_type": "markdown",
      "source": [
        "**3) fillna**"
      ],
      "metadata": {
        "id": "Fa_Q2lQSaZ4Q"
      }
    },
    {
      "cell_type": "code",
      "source": [
        "new = pd.read_csv(\"/content/drive/MyDrive/tested_worldwide.csv\")\n",
        "print(new.fillna(\"tanjula\", inplace = True))\n",
        "print(new.isnull())"
      ],
      "metadata": {
        "colab": {
          "base_uri": "https://localhost:8080/"
        },
        "id": "E0Ty9PEmbOGO",
        "outputId": "ffad6e42-6c73-4395-835e-2365650c8d49"
      },
      "execution_count": null,
      "outputs": [
        {
          "output_type": "stream",
          "name": "stdout",
          "text": [
            "None\n",
            "        Date  Country_Region  Province_State  positive  active  hospitalized  \\\n",
            "0      False           False           False     False   False         False   \n",
            "1      False           False           False     False   False         False   \n",
            "2      False           False           False     False   False         False   \n",
            "3      False           False           False     False   False         False   \n",
            "4      False           False           False     False   False         False   \n",
            "...      ...             ...             ...       ...     ...           ...   \n",
            "27636  False           False           False     False   False         False   \n",
            "27637  False           False           False     False   False         False   \n",
            "27638  False           False           False     False   False         False   \n",
            "27639  False           False           False     False   False         False   \n",
            "27640  False           False           False     False   False         False   \n",
            "\n",
            "       hospitalizedCurr  recovered  death  total_tested  daily_tested  \\\n",
            "0                 False      False  False         False         False   \n",
            "1                 False      False  False         False         False   \n",
            "2                 False      False  False         False         False   \n",
            "3                 False      False  False         False         False   \n",
            "4                 False      False  False         False         False   \n",
            "...                 ...        ...    ...           ...           ...   \n",
            "27636             False      False  False         False         False   \n",
            "27637             False      False  False         False         False   \n",
            "27638             False      False  False         False         False   \n",
            "27639             False      False  False         False         False   \n",
            "27640             False      False  False         False         False   \n",
            "\n",
            "       daily_positive  \n",
            "0               False  \n",
            "1               False  \n",
            "2               False  \n",
            "3               False  \n",
            "4               False  \n",
            "...               ...  \n",
            "27636           False  \n",
            "27637           False  \n",
            "27638           False  \n",
            "27639           False  \n",
            "27640           False  \n",
            "\n",
            "[27641 rows x 12 columns]\n"
          ]
        }
      ]
    },
    {
      "cell_type": "markdown",
      "source": [
        "**4) interpolate**"
      ],
      "metadata": {
        "id": "ZGom536HcA7A"
      }
    },
    {
      "cell_type": "code",
      "source": [
        "print(new['positive'].interpolate('linear'))"
      ],
      "metadata": {
        "colab": {
          "base_uri": "https://localhost:8080/"
        },
        "id": "XdejsvSwcD3k",
        "outputId": "5aa1852f-fbcd-467d-e0e9-8c8c260defad"
      },
      "execution_count": null,
      "outputs": [
        {
          "output_type": "stream",
          "name": "stdout",
          "text": [
            "0            3.0\n",
            "1            4.0\n",
            "2            7.0\n",
            "3            1.0\n",
            "4            0.0\n",
            "          ...   \n",
            "27636    tanjula\n",
            "27637    tanjula\n",
            "27638    tanjula\n",
            "27639    tanjula\n",
            "27640    tanjula\n",
            "Name: positive, Length: 27641, dtype: object\n"
          ]
        }
      ]
    }
  ]
}